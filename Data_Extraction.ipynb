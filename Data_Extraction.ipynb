{
 "cells": [
  {
   "cell_type": "code",
   "execution_count": 1,
   "metadata": {},
   "outputs": [],
   "source": [
    "import requests\n",
    "import pandas as pd"
   ]
  },
  {
   "cell_type": "code",
   "execution_count": 3,
   "metadata": {},
   "outputs": [],
   "source": [
    "# Function to fetch all pages of data\n",
    "def fetch_all_pages(url, params, headers):\n",
    "    all_data = []\n",
    "    while url:\n",
    "        response = requests.get(url,params=params, headers=headers)\n",
    "        if response.status_code == 200:\n",
    "            data = response.json()\n",
    "            all_data.extend(data)\n",
    "            url = response.links.get('next', {}).get('url')  # Get URL for next page if available\n",
    "        else:\n",
    "            print(f\"Error code {response.status_code}: Failed to fetch data from {url}\")\n",
    "            break\n",
    "    return all_data\n",
    "\n",
    "def fetch_data(owner, repo, params={}, wanted_data=\"issues\"):\n",
    "    per_page = 100\n",
    "    # GitHub API endpoints\n",
    "    base_url = f\"https://api.github.com/repos/{owner}/{repo}\"\n",
    "    url = f\"{base_url}/{wanted_data}?per_page={per_page}\"\n",
    "    headers = {'User-Agent': 'request'}\n",
    "    return fetch_all_pages(url, params, headers)"
   ]
  },
  {
   "cell_type": "code",
   "execution_count": 4,
   "metadata": {},
   "outputs": [],
   "source": [
    "owner = \"rails\"\n",
    "repo = \"rails\""
   ]
  },
  {
   "cell_type": "code",
   "execution_count": 5,
   "metadata": {},
   "outputs": [
    {
     "data": {
      "text/plain": [
       "Index(['url', 'html_url', 'labels_url', 'id', 'node_id', 'number', 'title',\n",
       "       'description', 'creator', 'open_issues', 'closed_issues', 'state',\n",
       "       'created_at', 'updated_at', 'due_on', 'closed_at'],\n",
       "      dtype='object')"
      ]
     },
     "execution_count": 5,
     "metadata": {},
     "output_type": "execute_result"
    }
   ],
   "source": [
    "wanted_data = \"milestones\"\n",
    "milestones_data = fetch_data(owner=owner, repo=repo, wanted_data=wanted_data)\n",
    "milestones_df = pd.DataFrame.from_records(milestones_data)\n",
    "milestones_df.columns"
   ]
  },
  {
   "cell_type": "code",
   "execution_count": 6,
   "metadata": {},
   "outputs": [
    {
     "data": {
      "text/plain": [
       "url              https://api.github.com/repos/rails/rails/miles...\n",
       "html_url               https://github.com/rails/rails/milestone/75\n",
       "labels_url       https://api.github.com/repos/rails/rails/miles...\n",
       "id                                                         5391770\n",
       "node_id                               MDk6TWlsZXN0b25lNTM5MTc3MA==\n",
       "number                                                          75\n",
       "title                                                        6.0.x\n",
       "description                                                       \n",
       "creator          {'login': 'eugeneius', 'id': 432189, 'node_id'...\n",
       "open_issues                                                      3\n",
       "closed_issues                                                   28\n",
       "state                                                         open\n",
       "created_at                                    2020-05-06T20:51:20Z\n",
       "updated_at                                    2023-10-09T00:01:01Z\n",
       "due_on                                                        None\n",
       "closed_at                                                     None\n",
       "Name: 0, dtype: object"
      ]
     },
     "execution_count": 6,
     "metadata": {},
     "output_type": "execute_result"
    }
   ],
   "source": [
    "milestones_df.iloc[0]"
   ]
  },
  {
   "cell_type": "code",
   "execution_count": 5,
   "metadata": {},
   "outputs": [],
   "source": [
    "wanted_data = \"releases\"\n",
    "releases_data = fetch_data(owner=owner, repo=repo, wanted_data=wanted_data)"
   ]
  },
  {
   "cell_type": "code",
   "execution_count": 7,
   "metadata": {},
   "outputs": [
    {
     "data": {
      "text/plain": [
       "Index(['url', 'assets_url', 'upload_url', 'html_url', 'id', 'author',\n",
       "       'node_id', 'tag_name', 'target_commitish', 'name', 'draft',\n",
       "       'prerelease', 'created_at', 'published_at', 'assets', 'tarball_url',\n",
       "       'zipball_url', 'body', 'reactions'],\n",
       "      dtype='object')"
      ]
     },
     "execution_count": 7,
     "metadata": {},
     "output_type": "execute_result"
    }
   ],
   "source": [
    "releases_df = pd.DataFrame.from_records(releases_data)\n",
    "releases_df.columns"
   ]
  },
  {
   "cell_type": "code",
   "execution_count": 22,
   "metadata": {},
   "outputs": [
    {
     "data": {
      "text/html": [
       "<div>\n",
       "<style scoped>\n",
       "    .dataframe tbody tr th:only-of-type {\n",
       "        vertical-align: middle;\n",
       "    }\n",
       "\n",
       "    .dataframe tbody tr th {\n",
       "        vertical-align: top;\n",
       "    }\n",
       "\n",
       "    .dataframe thead th {\n",
       "        text-align: right;\n",
       "    }\n",
       "</style>\n",
       "<table border=\"1\" class=\"dataframe\">\n",
       "  <thead>\n",
       "    <tr style=\"text-align: right;\">\n",
       "      <th></th>\n",
       "      <th>name</th>\n",
       "      <th>prerelease</th>\n",
       "      <th>created_at</th>\n",
       "      <th>published_at</th>\n",
       "      <th>body</th>\n",
       "      <th>target_commitish</th>\n",
       "    </tr>\n",
       "  </thead>\n",
       "  <tbody>\n",
       "    <tr>\n",
       "      <th>0</th>\n",
       "      <td></td>\n",
       "      <td>False</td>\n",
       "      <td>2024-02-21T21:45:37Z</td>\n",
       "      <td>2024-02-21T21:52:08Z</td>\n",
       "      <td>\\r\\n## Active Support\\r\\n\\r\\n*   No changes.\\r...</td>\n",
       "      <td>main</td>\n",
       "    </tr>\n",
       "    <tr>\n",
       "      <th>1</th>\n",
       "      <td>7.1.3.1</td>\n",
       "      <td>False</td>\n",
       "      <td>2024-02-21T18:46:05Z</td>\n",
       "      <td>2024-02-21T18:55:01Z</td>\n",
       "      <td>\\r\\n## Active Support\\r\\n\\r\\n*   No changes.\\r...</td>\n",
       "      <td>main</td>\n",
       "    </tr>\n",
       "    <tr>\n",
       "      <th>2</th>\n",
       "      <td>7.0.8.1</td>\n",
       "      <td>False</td>\n",
       "      <td>2024-02-21T18:42:34Z</td>\n",
       "      <td>2024-02-21T18:53:35Z</td>\n",
       "      <td>\\r\\n## Active Support\\r\\n\\r\\n*   No changes.\\r...</td>\n",
       "      <td>main</td>\n",
       "    </tr>\n",
       "    <tr>\n",
       "      <th>3</th>\n",
       "      <td>6.1.7.7</td>\n",
       "      <td>False</td>\n",
       "      <td>2024-02-21T18:38:36Z</td>\n",
       "      <td>2024-02-21T18:51:33Z</td>\n",
       "      <td>\\r\\n## Active Support\\r\\n\\r\\n*   No changes.\\r...</td>\n",
       "      <td>main</td>\n",
       "    </tr>\n",
       "    <tr>\n",
       "      <th>4</th>\n",
       "      <td>7.1.3</td>\n",
       "      <td>False</td>\n",
       "      <td>2024-01-16T22:53:08Z</td>\n",
       "      <td>2024-01-16T23:02:49Z</td>\n",
       "      <td>\\r\\n## Active Support\\r\\n\\r\\n*   Handle nil `b...</td>\n",
       "      <td>main</td>\n",
       "    </tr>\n",
       "    <tr>\n",
       "      <th>...</th>\n",
       "      <td>...</td>\n",
       "      <td>...</td>\n",
       "      <td>...</td>\n",
       "      <td>...</td>\n",
       "      <td>...</td>\n",
       "      <td>...</td>\n",
       "    </tr>\n",
       "    <tr>\n",
       "      <th>109</th>\n",
       "      <td>5.1.7</td>\n",
       "      <td>False</td>\n",
       "      <td>2019-03-28T02:46:34Z</td>\n",
       "      <td>2019-03-28T02:53:55Z</td>\n",
       "      <td>## Active Support\\r\\n\\r\\n*   No changes.\\r\\n\\r...</td>\n",
       "      <td>master</td>\n",
       "    </tr>\n",
       "    <tr>\n",
       "      <th>110</th>\n",
       "      <td>5.2.3.rc1</td>\n",
       "      <td>True</td>\n",
       "      <td>2019-03-22T03:34:11Z</td>\n",
       "      <td>2019-03-22T03:38:45Z</td>\n",
       "      <td>## Active Support\\r\\n\\r\\n*   Add `ActiveSuppor...</td>\n",
       "      <td>master</td>\n",
       "    </tr>\n",
       "    <tr>\n",
       "      <th>111</th>\n",
       "      <td>5.1.7.rc1</td>\n",
       "      <td>True</td>\n",
       "      <td>2019-03-22T04:11:59Z</td>\n",
       "      <td>2019-03-22T04:18:42Z</td>\n",
       "      <td>## Active Support\\r\\n\\r\\n*   No changes.\\r\\n\\r...</td>\n",
       "      <td>master</td>\n",
       "    </tr>\n",
       "    <tr>\n",
       "      <th>112</th>\n",
       "      <td>6.0.0.beta1</td>\n",
       "      <td>True</td>\n",
       "      <td>2019-01-18T20:43:03Z</td>\n",
       "      <td>2019-01-18T21:32:44Z</td>\n",
       "      <td>## Active Support\\r\\n\\r\\n*   Remove deprecated...</td>\n",
       "      <td>master</td>\n",
       "    </tr>\n",
       "    <tr>\n",
       "      <th>113</th>\n",
       "      <td>5.2.2</td>\n",
       "      <td>False</td>\n",
       "      <td>2018-12-04T18:12:22Z</td>\n",
       "      <td>2018-12-04T18:17:39Z</td>\n",
       "      <td>## Active Support\\r\\n\\r\\n*   Fix bug where `#t...</td>\n",
       "      <td>master</td>\n",
       "    </tr>\n",
       "  </tbody>\n",
       "</table>\n",
       "<p>114 rows × 6 columns</p>\n",
       "</div>"
      ],
      "text/plain": [
       "            name  prerelease            created_at          published_at  \\\n",
       "0                      False  2024-02-21T21:45:37Z  2024-02-21T21:52:08Z   \n",
       "1        7.1.3.1       False  2024-02-21T18:46:05Z  2024-02-21T18:55:01Z   \n",
       "2        7.0.8.1       False  2024-02-21T18:42:34Z  2024-02-21T18:53:35Z   \n",
       "3        6.1.7.7       False  2024-02-21T18:38:36Z  2024-02-21T18:51:33Z   \n",
       "4          7.1.3       False  2024-01-16T22:53:08Z  2024-01-16T23:02:49Z   \n",
       "..           ...         ...                   ...                   ...   \n",
       "109        5.1.7       False  2019-03-28T02:46:34Z  2019-03-28T02:53:55Z   \n",
       "110    5.2.3.rc1        True  2019-03-22T03:34:11Z  2019-03-22T03:38:45Z   \n",
       "111    5.1.7.rc1        True  2019-03-22T04:11:59Z  2019-03-22T04:18:42Z   \n",
       "112  6.0.0.beta1        True  2019-01-18T20:43:03Z  2019-01-18T21:32:44Z   \n",
       "113        5.2.2       False  2018-12-04T18:12:22Z  2018-12-04T18:17:39Z   \n",
       "\n",
       "                                                  body target_commitish  \n",
       "0    \\r\\n## Active Support\\r\\n\\r\\n*   No changes.\\r...             main  \n",
       "1    \\r\\n## Active Support\\r\\n\\r\\n*   No changes.\\r...             main  \n",
       "2    \\r\\n## Active Support\\r\\n\\r\\n*   No changes.\\r...             main  \n",
       "3    \\r\\n## Active Support\\r\\n\\r\\n*   No changes.\\r...             main  \n",
       "4    \\r\\n## Active Support\\r\\n\\r\\n*   Handle nil `b...             main  \n",
       "..                                                 ...              ...  \n",
       "109  ## Active Support\\r\\n\\r\\n*   No changes.\\r\\n\\r...           master  \n",
       "110  ## Active Support\\r\\n\\r\\n*   Add `ActiveSuppor...           master  \n",
       "111  ## Active Support\\r\\n\\r\\n*   No changes.\\r\\n\\r...           master  \n",
       "112  ## Active Support\\r\\n\\r\\n*   Remove deprecated...           master  \n",
       "113  ## Active Support\\r\\n\\r\\n*   Fix bug where `#t...           master  \n",
       "\n",
       "[114 rows x 6 columns]"
      ]
     },
     "execution_count": 22,
     "metadata": {},
     "output_type": "execute_result"
    }
   ],
   "source": [
    "releases_df[[\"name\", \"prerelease\", \"created_at\", \"published_at\", \"body\", \"target_commitish\"]]"
   ]
  },
  {
   "cell_type": "code",
   "execution_count": 23,
   "metadata": {},
   "outputs": [],
   "source": [
    "wanted_data = \"branches\"\n",
    "branches_data = fetch_data(owner=owner, repo=repo, wanted_data=wanted_data)"
   ]
  },
  {
   "cell_type": "code",
   "execution_count": 24,
   "metadata": {},
   "outputs": [
    {
     "data": {
      "text/plain": [
       "Index(['name', 'commit', 'protected'], dtype='object')"
      ]
     },
     "execution_count": 24,
     "metadata": {},
     "output_type": "execute_result"
    }
   ],
   "source": [
    "branches_df = pd.DataFrame.from_records(branches_data)\n",
    "branches_df.columns"
   ]
  },
  {
   "cell_type": "code",
   "execution_count": 25,
   "metadata": {},
   "outputs": [
    {
     "data": {
      "text/html": [
       "<div>\n",
       "<style scoped>\n",
       "    .dataframe tbody tr th:only-of-type {\n",
       "        vertical-align: middle;\n",
       "    }\n",
       "\n",
       "    .dataframe tbody tr th {\n",
       "        vertical-align: top;\n",
       "    }\n",
       "\n",
       "    .dataframe thead th {\n",
       "        text-align: right;\n",
       "    }\n",
       "</style>\n",
       "<table border=\"1\" class=\"dataframe\">\n",
       "  <thead>\n",
       "    <tr style=\"text-align: right;\">\n",
       "      <th></th>\n",
       "      <th>name</th>\n",
       "      <th>commit</th>\n",
       "      <th>protected</th>\n",
       "    </tr>\n",
       "  </thead>\n",
       "  <tbody>\n",
       "    <tr>\n",
       "      <th>0</th>\n",
       "      <td>1-2-stable</td>\n",
       "      <td>{'sha': '5b3f7563ae1b4a7160fda7fe34240d40c5777...</td>\n",
       "      <td>True</td>\n",
       "    </tr>\n",
       "    <tr>\n",
       "      <th>1</th>\n",
       "      <td>2-0-stable</td>\n",
       "      <td>{'sha': '81d828a14c82b882e31612431a56f830bdc10...</td>\n",
       "      <td>True</td>\n",
       "    </tr>\n",
       "    <tr>\n",
       "      <th>2</th>\n",
       "      <td>2-1-stable</td>\n",
       "      <td>{'sha': 'b5d759fd2848146f7ee7a4c1b1a4be39e2f1a...</td>\n",
       "      <td>True</td>\n",
       "    </tr>\n",
       "    <tr>\n",
       "      <th>3</th>\n",
       "      <td>2-2-stable</td>\n",
       "      <td>{'sha': 'c6cb5a5ab00ac9e857e5b2757d2bce6a5ad14...</td>\n",
       "      <td>True</td>\n",
       "    </tr>\n",
       "    <tr>\n",
       "      <th>4</th>\n",
       "      <td>2-3-stable</td>\n",
       "      <td>{'sha': '89322cd467fee8d4fcc16f67a9e7fce5817f7...</td>\n",
       "      <td>True</td>\n",
       "    </tr>\n",
       "    <tr>\n",
       "      <th>...</th>\n",
       "      <td>...</td>\n",
       "      <td>...</td>\n",
       "      <td>...</td>\n",
       "    </tr>\n",
       "    <tr>\n",
       "      <th>80</th>\n",
       "      <td>zzak/39921</td>\n",
       "      <td>{'sha': 'c57a7cf6fb4764576451adf744d13be7d4c98...</td>\n",
       "      <td>False</td>\n",
       "    </tr>\n",
       "    <tr>\n",
       "      <th>81</th>\n",
       "      <td>zzak-39921</td>\n",
       "      <td>{'sha': 'c57a7cf6fb4764576451adf744d13be7d4c98...</td>\n",
       "      <td>False</td>\n",
       "    </tr>\n",
       "    <tr>\n",
       "      <th>82</th>\n",
       "      <td>zzak-debug-ci</td>\n",
       "      <td>{'sha': 'cfb574ad444b69bf48110534f747c5b6c2d4a...</td>\n",
       "      <td>False</td>\n",
       "    </tr>\n",
       "    <tr>\n",
       "      <th>83</th>\n",
       "      <td>zzak-patch-1</td>\n",
       "      <td>{'sha': '93974b7afd75924da3d421befeb117e46fc39...</td>\n",
       "      <td>False</td>\n",
       "    </tr>\n",
       "    <tr>\n",
       "      <th>84</th>\n",
       "      <td>ಠ_ಠ</td>\n",
       "      <td>{'sha': 'b7aa251234357f7ddddccabcbce332af39dd9...</td>\n",
       "      <td>False</td>\n",
       "    </tr>\n",
       "  </tbody>\n",
       "</table>\n",
       "<p>85 rows × 3 columns</p>\n",
       "</div>"
      ],
      "text/plain": [
       "             name                                             commit  \\\n",
       "0      1-2-stable  {'sha': '5b3f7563ae1b4a7160fda7fe34240d40c5777...   \n",
       "1      2-0-stable  {'sha': '81d828a14c82b882e31612431a56f830bdc10...   \n",
       "2      2-1-stable  {'sha': 'b5d759fd2848146f7ee7a4c1b1a4be39e2f1a...   \n",
       "3      2-2-stable  {'sha': 'c6cb5a5ab00ac9e857e5b2757d2bce6a5ad14...   \n",
       "4      2-3-stable  {'sha': '89322cd467fee8d4fcc16f67a9e7fce5817f7...   \n",
       "..            ...                                                ...   \n",
       "80     zzak/39921  {'sha': 'c57a7cf6fb4764576451adf744d13be7d4c98...   \n",
       "81     zzak-39921  {'sha': 'c57a7cf6fb4764576451adf744d13be7d4c98...   \n",
       "82  zzak-debug-ci  {'sha': 'cfb574ad444b69bf48110534f747c5b6c2d4a...   \n",
       "83   zzak-patch-1  {'sha': '93974b7afd75924da3d421befeb117e46fc39...   \n",
       "84            ಠ_ಠ  {'sha': 'b7aa251234357f7ddddccabcbce332af39dd9...   \n",
       "\n",
       "    protected  \n",
       "0        True  \n",
       "1        True  \n",
       "2        True  \n",
       "3        True  \n",
       "4        True  \n",
       "..        ...  \n",
       "80      False  \n",
       "81      False  \n",
       "82      False  \n",
       "83      False  \n",
       "84      False  \n",
       "\n",
       "[85 rows x 3 columns]"
      ]
     },
     "execution_count": 25,
     "metadata": {},
     "output_type": "execute_result"
    }
   ],
   "source": [
    "branches_df"
   ]
  },
  {
   "cell_type": "code",
   "execution_count": null,
   "metadata": {},
   "outputs": [],
   "source": []
  }
 ],
 "metadata": {
  "kernelspec": {
   "display_name": "Python 3",
   "language": "python",
   "name": "python3"
  },
  "language_info": {
   "codemirror_mode": {
    "name": "ipython",
    "version": 3
   },
   "file_extension": ".py",
   "mimetype": "text/x-python",
   "name": "python",
   "nbconvert_exporter": "python",
   "pygments_lexer": "ipython3",
   "version": "3.11.2"
  }
 },
 "nbformat": 4,
 "nbformat_minor": 2
}
