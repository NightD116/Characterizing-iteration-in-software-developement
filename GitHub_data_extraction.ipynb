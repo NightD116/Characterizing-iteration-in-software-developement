{
 "cells": [
  {
   "cell_type": "code",
   "execution_count": 7,
   "metadata": {},
   "outputs": [
    {
     "name": "stderr",
     "output_type": "stream",
     "text": [
      "[nltk_data] Downloading package stopwords to\n",
      "[nltk_data]     C:\\Users\\ACER\\AppData\\Roaming\\nltk_data...\n",
      "[nltk_data]   Package stopwords is already up-to-date!\n",
      "[nltk_data] Downloading package wordnet to\n",
      "[nltk_data]     C:\\Users\\ACER\\AppData\\Roaming\\nltk_data...\n",
      "[nltk_data]   Package wordnet is already up-to-date!\n",
      "[nltk_data] Downloading package averaged_perceptron_tagger to\n",
      "[nltk_data]     C:\\Users\\ACER\\AppData\\Roaming\\nltk_data...\n",
      "[nltk_data]   Package averaged_perceptron_tagger is already up-to-\n",
      "[nltk_data]       date!\n"
     ]
    }
   ],
   "source": [
    "import re\n",
    "import string\n",
    "import numpy as np\n",
    "import nltk\n",
    "import pandas as pd\n",
    "import spacy\n",
    "nltk.download(\"stopwords\")\n",
    "from nltk.corpus import stopwords\n",
    "nltk.download(\"wordnet\")\n",
    "from nltk.stem import WordNetLemmatizer\n",
    "nltk.download('averaged_perceptron_tagger')\n",
    "from nltk.corpus import wordnet\n",
    "from nltk.stem import WordNetLemmatizer\n",
    "from sklearn.model_selection import train_test_split\n",
    "from sklearn.ensemble import RandomForestClassifier, GradientBoostingClassifier\n",
    "from sklearn.feature_extraction.text import CountVectorizer\n",
    "from sklearn.feature_extraction.text import TfidfVectorizer\n",
    "from sklearn.metrics import classification_report\n",
    "from sklearn.preprocessing import OneHotEncoder\n",
    "from sklearn.preprocessing import StandardScaler\n",
    "from scipy.sparse import hstack, csr_matrix\n",
    "pd.plotting.register_matplotlib_converters()\n",
    "import matplotlib.pyplot as plt\n",
    "%matplotlib inline\n",
    "import seaborn as sns\n",
    "import joblib"
   ]
  },
  {
   "cell_type": "code",
   "execution_count": null,
   "metadata": {},
   "outputs": [],
   "source": [
    "import requests\n",
    "\n",
    "# Function to fetch all pages of data\n",
    "def fetch_all_pages(url, params, headers):\n",
    "    all_data = []\n",
    "    while url:\n",
    "        response = requests.get(url,params=params, headers=headers)\n",
    "        if response.status_code == 200:\n",
    "            data = response.json()\n",
    "            all_data.extend(data)\n",
    "            url = response.links.get('next', {}).get('url')  # Get URL for next page if available\n",
    "        else:\n",
    "            print(f\"Error code {response.status_code}: Failed to fetch data from {url}\")\n",
    "            break\n",
    "    return all_data\n",
    "\n",
    "def fetch_GitHub_issues_data(owner, repo):\n",
    "    per_page = 100\n",
    "    # GitHub API endpoints\n",
    "    base_url = f\"https://api.github.com/repos/{owner}/{repo}\"\n",
    "    issues_url = f\"{base_url}/issues?per_page={per_page}\"\n",
    "\n",
    "    # Define the params and headers just care closed issues\n",
    "    params = {\n",
    "        \"state\": \"closed\"\n",
    "    }\n",
    "    headers = {'User-Agent': 'request'}\n",
    "    return fetch_all_pages(issues_url, params, headers)"
   ]
  },
  {
   "cell_type": "code",
   "execution_count": 9,
   "metadata": {},
   "outputs": [],
   "source": [
    "# Define your GitHub owner and repository details\n",
    "owner = \"stanfordnlp\"\n",
    "repo = \"dspy\""
   ]
  },
  {
   "cell_type": "code",
   "execution_count": null,
   "metadata": {},
   "outputs": [],
   "source": [
    "issues_data = fetch_GitHub_issues_data(owner, repo)"
   ]
  },
  {
   "cell_type": "code",
   "execution_count": null,
   "metadata": {},
   "outputs": [],
   "source": [
    "\n",
    "\n",
    "# Use dataframe to store relevant data\n",
    "issues_df = pd.DataFrame.from_records(issues_data)\n",
    "issues_df.head()"
   ]
  },
  {
   "cell_type": "code",
   "execution_count": null,
   "metadata": {},
   "outputs": [],
   "source": [
    "issues_df.columns"
   ]
  },
  {
   "cell_type": "code",
   "execution_count": null,
   "metadata": {},
   "outputs": [],
   "source": [
    "issues_df.to_csv(f\"{owner}_{repo}_issues_data_raw.csv\")"
   ]
  },
  {
   "cell_type": "code",
   "execution_count": null,
   "metadata": {},
   "outputs": [],
   "source": [
    "def fetch_GitHub_milestones_data(owner, repo):\n",
    "    per_page = 100\n",
    "    # GitHub API endpoints\n",
    "    base_url = f\"https://api.github.com/repos/{owner}/{repo}\"\n",
    "    milestones_url = f\"{base_url}/milestones?per_page={per_page}\"\n",
    "\n",
    "    # Define the params and headers just care closed issues\n",
    "    params = {\n",
    "        \"state\": \"closed\"\n",
    "    }\n",
    "    headers = {'User-Agent': 'request'}\n",
    "    return fetch_all_pages(milestones_url, params, headers)"
   ]
  },
  {
   "cell_type": "code",
   "execution_count": null,
   "metadata": {},
   "outputs": [],
   "source": [
    "milestones_data = fetch_GitHub_milestones_data(owner, repo)\n",
    "milestones_df = pd.DataFrame.from_records(milestones_data)\n",
    "milestones_df.to_csv(f\"{owner}_{repo}_milestones_data_raw.csv\")\n",
    "milestones_df.columns"
   ]
  },
  {
   "cell_type": "code",
   "execution_count": null,
   "metadata": {},
   "outputs": [],
   "source": [
    "def fetch_GitHub_pulls_data(owner, repo):\n",
    "    per_page = 100\n",
    "    # GitHub API endpoints\n",
    "    base_url = f\"https://api.github.com/repos/{owner}/{repo}\"\n",
    "    pulls_url = f\"{base_url}/pulls?per_page={per_page}\"\n",
    "\n",
    "    # Define the params and headers just care closed issues\n",
    "    params = {\n",
    "        \"state\": \"closed\"\n",
    "    }\n",
    "    headers = {'User-Agent': 'request'}\n",
    "    return fetch_all_pages(pulls_url, params, headers)"
   ]
  },
  {
   "cell_type": "code",
   "execution_count": null,
   "metadata": {},
   "outputs": [],
   "source": [
    "pulls_data = fetch_GitHub_pulls_data(owner, repo)"
   ]
  },
  {
   "cell_type": "code",
   "execution_count": null,
   "metadata": {},
   "outputs": [],
   "source": [
    "pulls_df = pd.DataFrame.from_records(pulls_data)\n",
    "pulls_df.to_csv(f\"{owner}_{repo}_pulls_data_raw.csv\")\n",
    "pulls_df.columns"
   ]
  },
  {
   "cell_type": "code",
   "execution_count": null,
   "metadata": {},
   "outputs": [],
   "source": [
    "def fetch_GitHub_commits_data(owner, repo):\n",
    "    per_page = 100\n",
    "    # GitHub API endpoints\n",
    "    base_url = f\"https://api.github.com/repos/{owner}/{repo}\"\n",
    "    pulls_url = f\"{base_url}/commits?per_page={per_page}\"\n",
    "\n",
    "    params = {}\n",
    "\n",
    "    headers = {'User-Agent': 'request'}\n",
    "    return fetch_all_pages(pulls_url, params, headers)"
   ]
  },
  {
   "cell_type": "code",
   "execution_count": null,
   "metadata": {},
   "outputs": [],
   "source": [
    "commits_data = fetch_GitHub_commits_data(owner, repo)"
   ]
  },
  {
   "cell_type": "code",
   "execution_count": null,
   "metadata": {},
   "outputs": [],
   "source": [
    "commits_df = pd.DataFrame.from_records(commits_data)\n",
    "commits_df.to_csv(f\"{owner}_{repo}_commits_data_raw.csv\")\n",
    "commits_df.columns"
   ]
  },
  {
   "cell_type": "code",
   "execution_count": null,
   "metadata": {},
   "outputs": [],
   "source": [
    "def fetch_GitHub_releases_data(owner, repo):\n",
    "    per_page = 100\n",
    "    # GitHub API endpoints\n",
    "    base_url = f\"https://api.github.com/repos/{owner}/{repo}\"\n",
    "    pulls_url = f\"{base_url}/releases?per_page={per_page}\"\n",
    "\n",
    "    params = {}\n",
    "\n",
    "    headers = {'User-Agent': 'request'}\n",
    "    return fetch_all_pages(pulls_url, params, headers)"
   ]
  },
  {
   "cell_type": "code",
   "execution_count": null,
   "metadata": {},
   "outputs": [],
   "source": [
    "releases_data = fetch_GitHub_releases_data(owner, repo)"
   ]
  },
  {
   "cell_type": "code",
   "execution_count": null,
   "metadata": {},
   "outputs": [],
   "source": [
    "releases_df = pd.DataFrame.from_records(releases_data)\n",
    "releases_df.to_csv(f\"{owner}_{repo}_releases_data_raw.csv\")\n",
    "releases_df.columns"
   ]
  },
  {
   "cell_type": "code",
   "execution_count": null,
   "metadata": {},
   "outputs": [],
   "source": [
    "def fetch_GitHub_branches_data(owner, repo):\n",
    "    per_page = 100\n",
    "    # GitHub API endpoints\n",
    "    base_url = f\"https://api.github.com/repos/{owner}/{repo}\"\n",
    "    branch_url = f\"{base_url}/branches?per_page={per_page}\"\n",
    "\n",
    "    params = {}\n",
    "\n",
    "    headers = {'User-Agent': 'request'}\n",
    "    return fetch_all_pages(branch_url, params, headers)"
   ]
  },
  {
   "cell_type": "code",
   "execution_count": null,
   "metadata": {},
   "outputs": [],
   "source": [
    "branches = fetch_GitHub_branches_data(owner, repo)"
   ]
  },
  {
   "cell_type": "code",
   "execution_count": null,
   "metadata": {},
   "outputs": [],
   "source": [
    "branches_df = pd.DataFrame.from_records(branches)\n",
    "branches_df.to_csv(f\"{owner}_{repo}_branches_data_raw.csv\")\n",
    "branches_df.columns"
   ]
  },
  {
   "cell_type": "code",
   "execution_count": null,
   "metadata": {},
   "outputs": [],
   "source": [
    "def fetch_GitHub_events_data(owner, repo):\n",
    "    per_page = 100\n",
    "    # GitHub API endpoints\n",
    "    base_url = f\"https://api.github.com/repos/{owner}/{repo}\"\n",
    "    event_url = f\"{base_url}/events?per_page={per_page}\"\n",
    "\n",
    "    params = {}\n",
    "\n",
    "    headers = {'User-Agent': 'request'}\n",
    "    return fetch_all_pages(event_url, params, headers)"
   ]
  },
  {
   "cell_type": "code",
   "execution_count": null,
   "metadata": {},
   "outputs": [],
   "source": [
    "events_data = fetch_GitHub_events_data(owner, repo)"
   ]
  },
  {
   "cell_type": "code",
   "execution_count": null,
   "metadata": {},
   "outputs": [],
   "source": [
    "import pandas as pd\n",
    "\n",
    "events_df = pd.DataFrame.from_records(events_data)\n",
    "events_df.to_csv(f\"{owner}_{repo}_events_data_raw.csv\")\n",
    "events_df.columns"
   ]
  },
  {
   "cell_type": "code",
   "execution_count": null,
   "metadata": {},
   "outputs": [],
   "source": [
    "def fetch_GitHub_issues_events_data(owner, repo):\n",
    "    per_page = 100\n",
    "    # GitHub API endpoints\n",
    "    base_url = f\"https://api.github.com/repos/{owner}/{repo}\"\n",
    "    issues_url = f\"{base_url}/issues/events?per_page={per_page}\"\n",
    "\n",
    "    # Define the params and headers just care closed issues\n",
    "    params = {\n",
    "        \"state\": \"closed\"\n",
    "    }\n",
    "    headers = {'User-Agent': 'request'}\n",
    "    return fetch_all_pages(issues_url, params, headers)"
   ]
  },
  {
   "cell_type": "code",
   "execution_count": null,
   "metadata": {},
   "outputs": [],
   "source": [
    "issues_events_data = fetch_GitHub_issues_events_data(owner, repo)"
   ]
  },
  {
   "cell_type": "code",
   "execution_count": null,
   "metadata": {},
   "outputs": [],
   "source": [
    "import pandas as pd\n",
    "\n",
    "issues_events_data = pd.DataFrame.from_records(issues_events_data)\n",
    "issues_events_data.to_csv(f\"{owner}_{repo}_issues_events_data_raw.csv\")\n",
    "issues_events_data.columns"
   ]
  },
  {
   "cell_type": "code",
   "execution_count": null,
   "metadata": {},
   "outputs": [],
   "source": [
    "issues_events_data[issues_events_data.review_requester.notna()]"
   ]
  },
  {
   "cell_type": "code",
   "execution_count": null,
   "metadata": {},
   "outputs": [],
   "source": [
    "events_df[events_df.type == \"PullRequestReviewEvent\"].head()"
   ]
  },
  {
   "cell_type": "code",
   "execution_count": null,
   "metadata": {},
   "outputs": [],
   "source": [
    "pull_request_review_events = events_df[events_df.type == \"PullRequestReviewEvent\"]\n",
    "pull_request_review_events_payload = pull_request_review_events[\"payload\"]\n",
    "pr_review_payload_df = pd.DataFrame(list(pull_request_review_events_payload))\n",
    "pr_review_payload_df[\"pull_request\"]\n",
    "pr_review_number_list = []\n",
    "for index, pr in pr_review_payload_df.iterrows():\n",
    "    pr_review_number_list.append(pr[\"pull_request\"][\"number\"])\n",
    "pr_review_number_list"
   ]
  },
  {
   "cell_type": "code",
   "execution_count": null,
   "metadata": {},
   "outputs": [],
   "source": [
    "iterations_df = pd.DataFrame(columns=[\"Type\", \"Related url\",\"planned/unplanned\", \"Cause\", \"Body\", \"Start Time\", \"End Time\", \"Duration\"])"
   ]
  },
  {
   "cell_type": "markdown",
   "metadata": {},
   "source": [
    "### Issue columns\n",
    "Index(['url', 'repository_url', 'labels_url', 'comments_url', 'events_url',\n",
    "       'html_url', 'id', 'node_id', 'number', 'title', 'user', 'labels',\n",
    "       'state', 'locked', 'assignee', 'assignees', 'milestone', 'comments',\n",
    "       'created_at', 'updated_at', 'closed_at', 'author_association',\n",
    "       'active_lock_reason', 'draft', 'pull_request', 'body', 'reactions',\n",
    "       'timeline_url', 'performed_via_github_app', 'state_reason'],\n",
    "      dtype='object')\n",
    "### Pull request columns\n",
    "Index(['url', 'id', 'node_id', 'html_url', 'diff_url', 'patch_url',\n",
    "       'issue_url', 'number', 'state', 'locked', 'title', 'user', 'body',\n",
    "       'created_at', 'updated_at', 'closed_at', 'merged_at',\n",
    "       'merge_commit_sha', 'assignee', 'assignees', 'requested_reviewers',\n",
    "       'requested_teams', 'labels', 'milestone', 'draft', 'commits_url',\n",
    "       'review_comments_url', 'review_comment_url', 'comments_url',\n",
    "       'statuses_url', 'head', 'base', '_links', 'author_association',\n",
    "       'auto_merge', 'active_lock_reason'],\n",
    "      dtype='object')\n"
   ]
  },
  {
   "cell_type": "code",
   "execution_count": null,
   "metadata": {},
   "outputs": [],
   "source": [
    "for index,release in releases_df.iterrows():\n",
    "    type = \"Release\"\n",
    "    related_url = release.html_url\n",
    "    body = \"version: \" + str(release.name) + \",\\n Body:\\n \" +  str(release.body)\n",
    "    isplanned = \"planned\"\n",
    "    start_at = release.created_at\n",
    "    end_at = release.published_at\n",
    "    duration = pd.Timestamp(end_at) - pd.Timestamp(start_at)\n",
    "    iterations_df.loc[len(iterations_df.index)] = [type, related_url, isplanned, \"New Version publication\", body, start_at, end_at, duration]\n",
    "\n",
    "for index,milestone in milestones_df.iterrows():\n",
    "    type = \"Milestone\"\n",
    "    milestone_url = milestone.html_url\n",
    "    body = \"Title: \" + str(milestone.title) + \",\\n Description:\\n \" +  str(milestone.description) + \"\\n open_issues: \" + str(milestone.open_issues) \n",
    "    + \"\\n closed_issues: \" + str(milestone.closed_issues)\n",
    "    isplanned = \"planned\"\n",
    "    start_at = milestone.created_at\n",
    "    end_at = milestone.closed_at\n",
    "    duration = pd.Timestamp(end_at) - pd.Timestamp(start_at)\n",
    "    iterations_df.loc[len(iterations_df.index)] = [type, related_url, isplanned, \"New Version publication\", body, start_at, end_at, duration]\n",
    "\n",
    "for index, issue in issues_df.iterrows():\n",
    "    related_url = issue.html_url\n",
    "    body = str(issue.title)+ \" \" + str(issue.body)\n",
    "    isplanned = \"unplanned\"\n",
    "    start_at = issue.created_at  \n",
    "    end_at = issue.closed_at\n",
    "    duration = pd.Timestamp(end_at) - pd.Timestamp(start_at)\n",
    "    if pd.isna(issue.pull_request):\n",
    "        type = \"Bug Fixing Process\"\n",
    "    else:\n",
    "        if pd.notna(issue.milestone) or pd.notna(issue.assignee):\n",
    "            isplanned = \"planned\"\n",
    "        number = issue.number\n",
    "        if number in pr_review_number_list:\n",
    "            type = \"Knowledge Integration\"\n",
    "        else:\n",
    "            type = \"Direct Implementation\"\n",
    "    iterations_df.loc[len(iterations_df.index)] = [type, related_url, isplanned, \"Unknown\", body, start_at, end_at, duration]        \n",
    "        "
   ]
  },
  {
   "cell_type": "code",
   "execution_count": null,
   "metadata": {},
   "outputs": [],
   "source": [
    "iterations_df.head()"
   ]
  },
  {
   "cell_type": "code",
   "execution_count": null,
   "metadata": {},
   "outputs": [],
   "source": [
    "iterations_df.shape"
   ]
  },
  {
   "cell_type": "code",
   "execution_count": null,
   "metadata": {},
   "outputs": [],
   "source": [
    "iterations_for_ML_model = iterations_df[iterations_df.Cause == \"Unknown\"][iterations_df[\"Type\"]!=\"Bug Fixing Process\"]\n",
    "iterations_for_ML_model"
   ]
  },
  {
   "cell_type": "markdown",
   "metadata": {},
   "source": [
    "# Data preprocessing"
   ]
  },
  {
   "cell_type": "code",
   "execution_count": null,
   "metadata": {},
   "outputs": [],
   "source": [
    "def clean_text(text):\n",
    "    '''Make text lowercase, remove text in square brackets,remove links,remove punctuation\n",
    "    and remove words containing numbers.'''\n",
    "    text = str(text).lower()\n",
    "    text = re.sub('\\[.*?\\]', '', text)\n",
    "    text = re.sub('https?://\\S+|www\\.\\S+', '', text)\n",
    "    text = re.sub('<.*?>+', '', text)\n",
    "    text = re.sub('[%s]' % re.escape(string.punctuation), '', text)\n",
    "    text = re.sub('\\n', '', text)\n",
    "    text = re.sub('\\w*\\d\\w*', '', text)\n",
    "    return text"
   ]
  },
  {
   "cell_type": "code",
   "execution_count": null,
   "metadata": {},
   "outputs": [],
   "source": [
    "STOPWORDS = set(stopwords.words(\"english\"))\n",
    "def remove_stopwords(text):\n",
    "    \"\"\"custom function to remove the stopwords\"\"\"\n",
    "    return \" \".join([word for word in str(text).split() if word not in STOPWORDS])"
   ]
  },
  {
   "cell_type": "code",
   "execution_count": null,
   "metadata": {},
   "outputs": [],
   "source": [
    "lemmatizer = WordNetLemmatizer()\n",
    "wordnet_map = {\"N\":wordnet.NOUN, \"V\":wordnet.VERB, \"J\":wordnet.ADJ, \"R\":wordnet.ADV}\n",
    "def lemmatize_words(text):\n",
    "    pos_tagged_text = nltk.pos_tag(text.split())\n",
    "    return \" \".join([lemmatizer.lemmatize(word, wordnet_map.get(pos[0], wordnet.NOUN)) for word, pos in pos_tagged_text])"
   ]
  },
  {
   "cell_type": "code",
   "execution_count": null,
   "metadata": {},
   "outputs": [],
   "source": [
    "# Reference : https://gist.github.com/slowkow/7a7f61f495e3dbb7e3d767f97bd7304b\n",
    "def remove_emoji(string):\n",
    "    emoji_pattern = re.compile(\"[\"\n",
    "                           u\"\\U0001F600-\\U0001F64F\"  # emoticons\n",
    "                           u\"\\U0001F300-\\U0001F5FF\"  # symbols & pictographs\n",
    "                           u\"\\U0001F680-\\U0001F6FF\"  # transport & map symbols\n",
    "                           u\"\\U0001F1E0-\\U0001F1FF\"  # flags (iOS)\n",
    "                           u\"\\U00002702-\\U000027B0\"\n",
    "                           u\"\\U000024C2-\\U0001F251\"\n",
    "                           \"]+\", flags=re.UNICODE)\n",
    "    return emoji_pattern.sub(r\"\", string)"
   ]
  },
  {
   "cell_type": "code",
   "execution_count": null,
   "metadata": {},
   "outputs": [],
   "source": [
    "def preprocess_data(text):\n",
    "    text = clean_text(text)\n",
    "    text = remove_emoji(text)\n",
    "    text = remove_stopwords(text)\n",
    "    text = lemmatize_words(text)\n",
    "    return text"
   ]
  },
  {
   "cell_type": "code",
   "execution_count": null,
   "metadata": {},
   "outputs": [],
   "source": [
    "iterations_for_ML_model[\"Context\"] = iterations_for_ML_model[\"Body\"].astype(str).apply(preprocess_data)\n",
    "iterations_for_ML_model.head()"
   ]
  },
  {
   "cell_type": "code",
   "execution_count": 85,
   "metadata": {},
   "outputs": [],
   "source": [
    "iterations_for_ML_model.to_csv(f\"{owner}_{repo}_iterations_data_raw.csv\")"
   ]
  },
  {
   "cell_type": "code",
   "execution_count": 10,
   "metadata": {},
   "outputs": [],
   "source": [
    "iterations_labeled_df = pd.read_csv(f\"{owner}_{repo}_iterations_labeled_data.csv\")"
   ]
  },
  {
   "cell_type": "code",
   "execution_count": 19,
   "metadata": {},
   "outputs": [],
   "source": [
    "iterations_labeled_df['Context'] = iterations_labeled_df['Context'].str.rstrip(' None')"
   ]
  },
  {
   "cell_type": "code",
   "execution_count": 28,
   "metadata": {},
   "outputs": [
    {
     "data": {
      "text/html": [
       "<div>\n",
       "<style scoped>\n",
       "    .dataframe tbody tr th:only-of-type {\n",
       "        vertical-align: middle;\n",
       "    }\n",
       "\n",
       "    .dataframe tbody tr th {\n",
       "        vertical-align: top;\n",
       "    }\n",
       "\n",
       "    .dataframe thead th {\n",
       "        text-align: right;\n",
       "    }\n",
       "</style>\n",
       "<table border=\"1\" class=\"dataframe\">\n",
       "  <thead>\n",
       "    <tr style=\"text-align: right;\">\n",
       "      <th></th>\n",
       "      <th>ID</th>\n",
       "      <th>Type</th>\n",
       "      <th>Related url</th>\n",
       "      <th>planned/unplanned</th>\n",
       "      <th>Cause</th>\n",
       "      <th>Body</th>\n",
       "      <th>Start Time</th>\n",
       "      <th>End Time</th>\n",
       "      <th>Duration</th>\n",
       "      <th>Context</th>\n",
       "    </tr>\n",
       "  </thead>\n",
       "  <tbody>\n",
       "    <tr>\n",
       "      <th>3</th>\n",
       "      <td>5</td>\n",
       "      <td>Direct Implementation</td>\n",
       "      <td>https://github.com/stanfordnlp/dspy/pull/743</td>\n",
       "      <td>unplanned</td>\n",
       "      <td>Rework</td>\n",
       "      <td>Fixed missing copy in TypedPredictor None</td>\n",
       "      <td>2024-03-30T20:58:22Z</td>\n",
       "      <td>2024-03-30T20:58:29Z</td>\n",
       "      <td>0 days 00:00:07</td>\n",
       "      <td>fix miss copy typedpredictor</td>\n",
       "    </tr>\n",
       "    <tr>\n",
       "      <th>6</th>\n",
       "      <td>9</td>\n",
       "      <td>Direct Implementation</td>\n",
       "      <td>https://github.com/stanfordnlp/dspy/pull/731</td>\n",
       "      <td>unplanned</td>\n",
       "      <td>Rework</td>\n",
       "      <td>Fix OpenAIVectorizer Fixes #728 \\r\\n\\r\\n-[ ] S...</td>\n",
       "      <td>2024-03-28T18:24:16Z</td>\n",
       "      <td>2024-03-28T18:34:24Z</td>\n",
       "      <td>0 days 00:10:08</td>\n",
       "      <td>fix openaivectorizer fix squash commits obey c...</td>\n",
       "    </tr>\n",
       "    <tr>\n",
       "      <th>8</th>\n",
       "      <td>11</td>\n",
       "      <td>Direct Implementation</td>\n",
       "      <td>https://github.com/stanfordnlp/dspy/pull/725</td>\n",
       "      <td>unplanned</td>\n",
       "      <td>Rework</td>\n",
       "      <td>docs: fix cheatsheet no RM loaded error in ReA...</td>\n",
       "      <td>2024-03-27T18:52:35Z</td>\n",
       "      <td>2024-03-30T06:15:31Z</td>\n",
       "      <td>2 days 11:22:56</td>\n",
       "      <td>docs fix cheatsheet rm load error react</td>\n",
       "    </tr>\n",
       "    <tr>\n",
       "      <th>10</th>\n",
       "      <td>13</td>\n",
       "      <td>Direct Implementation</td>\n",
       "      <td>https://github.com/stanfordnlp/dspy/pull/719</td>\n",
       "      <td>unplanned</td>\n",
       "      <td>Rework</td>\n",
       "      <td>fix(dsp): in `HFClientVLLM`, actually use `kwa...</td>\n",
       "      <td>2024-03-25T23:28:16Z</td>\n",
       "      <td>2024-04-01T21:57:25Z</td>\n",
       "      <td>6 days 22:29:09</td>\n",
       "      <td>fixdsp hfclientvllm actually use kwargs payloa...</td>\n",
       "    </tr>\n",
       "    <tr>\n",
       "      <th>11</th>\n",
       "      <td>15</td>\n",
       "      <td>Direct Implementation</td>\n",
       "      <td>https://github.com/stanfordnlp/dspy/pull/716</td>\n",
       "      <td>unplanned</td>\n",
       "      <td>Rework</td>\n",
       "      <td>Update Cohere LM to use  the `/chat` API and a...</td>\n",
       "      <td>2024-03-25T21:48:34Z</td>\n",
       "      <td>2024-03-27T14:23:18Z</td>\n",
       "      <td>1 days 16:34:44</td>\n",
       "      <td>update cohere lm use chat api add support comm...</td>\n",
       "    </tr>\n",
       "    <tr>\n",
       "      <th>...</th>\n",
       "      <td>...</td>\n",
       "      <td>...</td>\n",
       "      <td>...</td>\n",
       "      <td>...</td>\n",
       "      <td>...</td>\n",
       "      <td>...</td>\n",
       "      <td>...</td>\n",
       "      <td>...</td>\n",
       "      <td>...</td>\n",
       "      <td>...</td>\n",
       "    </tr>\n",
       "    <tr>\n",
       "      <th>318</th>\n",
       "      <td>518</td>\n",
       "      <td>Direct Implementation</td>\n",
       "      <td>https://github.com/stanfordnlp/dspy/pull/48</td>\n",
       "      <td>unplanned</td>\n",
       "      <td>Rework</td>\n",
       "      <td>Fix bug in majority_vote_ Fix issue raised in ...</td>\n",
       "      <td>2023-04-24T17:15:07Z</td>\n",
       "      <td>2023-04-24T17:16:58Z</td>\n",
       "      <td>0 days 00:01:51</td>\n",
       "      <td>fix bug majorityvote fix issue rais</td>\n",
       "    </tr>\n",
       "    <tr>\n",
       "      <th>320</th>\n",
       "      <td>521</td>\n",
       "      <td>Direct Implementation</td>\n",
       "      <td>https://github.com/stanfordnlp/dspy/pull/45</td>\n",
       "      <td>unplanned</td>\n",
       "      <td>Rework</td>\n",
       "      <td>bug(cohere-lm): retry only for rate-limit erro...</td>\n",
       "      <td>2023-04-24T12:14:00Z</td>\n",
       "      <td>2023-04-24T12:14:27Z</td>\n",
       "      <td>0 days 00:00:27</td>\n",
       "      <td>bugcoherelm retry ratelimit error</td>\n",
       "    </tr>\n",
       "    <tr>\n",
       "      <th>321</th>\n",
       "      <td>522</td>\n",
       "      <td>Direct Implementation</td>\n",
       "      <td>https://github.com/stanfordnlp/dspy/pull/44</td>\n",
       "      <td>planned</td>\n",
       "      <td>Rework</td>\n",
       "      <td>bug(faiss): mismatch in types &amp; args instead o...</td>\n",
       "      <td>2023-04-23T21:28:20Z</td>\n",
       "      <td>2023-04-23T21:49:23Z</td>\n",
       "      <td>0 days 00:21:03</td>\n",
       "      <td>bugfaiss mismatch type args instead kwargs add...</td>\n",
       "    </tr>\n",
       "    <tr>\n",
       "      <th>337</th>\n",
       "      <td>550</td>\n",
       "      <td>Direct Implementation</td>\n",
       "      <td>https://github.com/stanfordnlp/dspy/pull/16</td>\n",
       "      <td>unplanned</td>\n",
       "      <td>Rework</td>\n",
       "      <td>Resolve import issues for FAISS @okhat resolve...</td>\n",
       "      <td>2023-02-19T16:24:08Z</td>\n",
       "      <td>2023-02-19T16:39:49Z</td>\n",
       "      <td>0 days 00:15:41</td>\n",
       "      <td>resolve import issue faiss okhat resolve last ...</td>\n",
       "    </tr>\n",
       "    <tr>\n",
       "      <th>341</th>\n",
       "      <td>559</td>\n",
       "      <td>Direct Implementation</td>\n",
       "      <td>https://github.com/stanfordnlp/dspy/pull/7</td>\n",
       "      <td>unplanned</td>\n",
       "      <td>Rework</td>\n",
       "      <td>No longer assume we are always running in a no...</td>\n",
       "      <td>2023-01-25T22:49:20Z</td>\n",
       "      <td>2023-01-26T03:17:34Z</td>\n",
       "      <td>0 days 04:28:14</td>\n",
       "      <td>long assume always run notebook notebook set f...</td>\n",
       "    </tr>\n",
       "  </tbody>\n",
       "</table>\n",
       "<p>102 rows × 10 columns</p>\n",
       "</div>"
      ],
      "text/plain": [
       "      ID                   Type                                   Related url  \\\n",
       "3      5  Direct Implementation  https://github.com/stanfordnlp/dspy/pull/743   \n",
       "6      9  Direct Implementation  https://github.com/stanfordnlp/dspy/pull/731   \n",
       "8     11  Direct Implementation  https://github.com/stanfordnlp/dspy/pull/725   \n",
       "10    13  Direct Implementation  https://github.com/stanfordnlp/dspy/pull/719   \n",
       "11    15  Direct Implementation  https://github.com/stanfordnlp/dspy/pull/716   \n",
       "..   ...                    ...                                           ...   \n",
       "318  518  Direct Implementation   https://github.com/stanfordnlp/dspy/pull/48   \n",
       "320  521  Direct Implementation   https://github.com/stanfordnlp/dspy/pull/45   \n",
       "321  522  Direct Implementation   https://github.com/stanfordnlp/dspy/pull/44   \n",
       "337  550  Direct Implementation   https://github.com/stanfordnlp/dspy/pull/16   \n",
       "341  559  Direct Implementation    https://github.com/stanfordnlp/dspy/pull/7   \n",
       "\n",
       "    planned/unplanned   Cause  \\\n",
       "3           unplanned  Rework   \n",
       "6           unplanned  Rework   \n",
       "8           unplanned  Rework   \n",
       "10          unplanned  Rework   \n",
       "11          unplanned  Rework   \n",
       "..                ...     ...   \n",
       "318         unplanned  Rework   \n",
       "320         unplanned  Rework   \n",
       "321           planned  Rework   \n",
       "337         unplanned  Rework   \n",
       "341         unplanned  Rework   \n",
       "\n",
       "                                                  Body            Start Time  \\\n",
       "3            Fixed missing copy in TypedPredictor None  2024-03-30T20:58:22Z   \n",
       "6    Fix OpenAIVectorizer Fixes #728 \\r\\n\\r\\n-[ ] S...  2024-03-28T18:24:16Z   \n",
       "8    docs: fix cheatsheet no RM loaded error in ReA...  2024-03-27T18:52:35Z   \n",
       "10   fix(dsp): in `HFClientVLLM`, actually use `kwa...  2024-03-25T23:28:16Z   \n",
       "11   Update Cohere LM to use  the `/chat` API and a...  2024-03-25T21:48:34Z   \n",
       "..                                                 ...                   ...   \n",
       "318  Fix bug in majority_vote_ Fix issue raised in ...  2023-04-24T17:15:07Z   \n",
       "320  bug(cohere-lm): retry only for rate-limit erro...  2023-04-24T12:14:00Z   \n",
       "321  bug(faiss): mismatch in types & args instead o...  2023-04-23T21:28:20Z   \n",
       "337  Resolve import issues for FAISS @okhat resolve...  2023-02-19T16:24:08Z   \n",
       "341  No longer assume we are always running in a no...  2023-01-25T22:49:20Z   \n",
       "\n",
       "                 End Time         Duration  \\\n",
       "3    2024-03-30T20:58:29Z  0 days 00:00:07   \n",
       "6    2024-03-28T18:34:24Z  0 days 00:10:08   \n",
       "8    2024-03-30T06:15:31Z  2 days 11:22:56   \n",
       "10   2024-04-01T21:57:25Z  6 days 22:29:09   \n",
       "11   2024-03-27T14:23:18Z  1 days 16:34:44   \n",
       "..                    ...              ...   \n",
       "318  2023-04-24T17:16:58Z  0 days 00:01:51   \n",
       "320  2023-04-24T12:14:27Z  0 days 00:00:27   \n",
       "321  2023-04-23T21:49:23Z  0 days 00:21:03   \n",
       "337  2023-02-19T16:39:49Z  0 days 00:15:41   \n",
       "341  2023-01-26T03:17:34Z  0 days 04:28:14   \n",
       "\n",
       "                                               Context  \n",
       "3                         fix miss copy typedpredictor  \n",
       "6    fix openaivectorizer fix squash commits obey c...  \n",
       "8              docs fix cheatsheet rm load error react  \n",
       "10   fixdsp hfclientvllm actually use kwargs payloa...  \n",
       "11   update cohere lm use chat api add support comm...  \n",
       "..                                                 ...  \n",
       "318                fix bug majorityvote fix issue rais  \n",
       "320                  bugcoherelm retry ratelimit error  \n",
       "321  bugfaiss mismatch type args instead kwargs add...  \n",
       "337  resolve import issue faiss okhat resolve last ...  \n",
       "341  long assume always run notebook notebook set f...  \n",
       "\n",
       "[102 rows x 10 columns]"
      ]
     },
     "execution_count": 28,
     "metadata": {},
     "output_type": "execute_result"
    }
   ],
   "source": [
    "iterations_labeled_df[iterations_labeled_df[\"Cause\"]==\"Rework\"]"
   ]
  },
  {
   "cell_type": "code",
   "execution_count": 21,
   "metadata": {},
   "outputs": [
    {
     "data": {
      "image/png": "[encoded data removed]",
      "text/plain": [
       "<Figure size 640x480 with 1 Axes>"
      ]
     },
     "metadata": {},
     "output_type": "display_data"
    }
   ],
   "source": [
    "histplot = sns.histplot(iterations_labeled_df[\"Cause\"])"
   ]
  },
  {
   "cell_type": "code",
   "execution_count": 22,
   "metadata": {},
   "outputs": [],
   "source": [
    "fig = histplot.get_figure()\n",
    "fig.savefig(\"histplot.pdf\") "
   ]
  },
  {
   "cell_type": "code",
   "execution_count": 23,
   "metadata": {},
   "outputs": [
    {
     "name": "stdout",
     "output_type": "stream",
     "text": [
      "Training Random Forest using TF-IDF...\n",
      "Evaluating Random Forest using TF-IDF:\n",
      "              precision    recall  f1-score   support\n",
      "\n",
      "    New Work       0.64      0.88      0.74        26\n",
      "  Refinement       0.89      0.36      0.52        22\n",
      "      Rework       0.71      0.81      0.76        21\n",
      "\n",
      "    accuracy                           0.70        69\n",
      "   macro avg       0.75      0.69      0.67        69\n",
      "weighted avg       0.74      0.70      0.67        69\n",
      "\n",
      "Training Gradient Boosting using TF-IDF...\n",
      "Evaluating Gradient Boosting using TF-IDF:\n",
      "              precision    recall  f1-score   support\n",
      "\n",
      "    New Work       0.70      0.73      0.72        26\n",
      "  Refinement       0.80      0.55      0.65        22\n",
      "      Rework       0.59      0.76      0.67        21\n",
      "\n",
      "    accuracy                           0.68        69\n",
      "   macro avg       0.70      0.68      0.68        69\n",
      "weighted avg       0.70      0.68      0.68        69\n",
      "\n"
     ]
    }
   ],
   "source": [
    "# Split the data into training and test sets\n",
    "X = iterations_labeled_df[\"Context\"]  # Features\n",
    "y = iterations_labeled_df[\"Cause\"]  # Target variable\n",
    "X_train, X_test, y_train, y_test = train_test_split(X, y, test_size=0.2, random_state=42)\n",
    "\n",
    "# Vectorize text data using TF-IDF\n",
    "tfidf_vectorizer = TfidfVectorizer(max_features=1000)\n",
    "X_train_tfidf = tfidf_vectorizer.fit_transform(X_train)\n",
    "X_test_tfidf = tfidf_vectorizer.transform(X_test)\n",
    "\n",
    "# Define models\n",
    "models = {\n",
    "    \"Random Forest\": RandomForestClassifier(n_estimators=100, random_state=42),\n",
    "    \"Gradient Boosting\": GradientBoostingClassifier(n_estimators=100, random_state=42),\n",
    "}\n",
    "\n",
    "# Train and evaluate each model\n",
    "for name, model in models.items():\n",
    "    print(f\"Training {name} using TF-IDF...\")\n",
    "    model.fit(X_train_tfidf, y_train)\n",
    "    y_pred = model.predict(X_test_tfidf)\n",
    "    joblib.dump(model, f\"trained_{name}_model.pkl\")\n",
    "    print(f\"Evaluating {name} using TF-IDF:\")\n",
    "    print(classification_report(y_test, y_pred))\n"
   ]
  },
  {
   "cell_type": "code",
   "execution_count": 30,
   "metadata": {},
   "outputs": [
    {
     "data": {
      "image/png": "[encoded data removed]",
      "text/plain": [
       "<Figure size 1000x600 with 1 Axes>"
      ]
     },
     "metadata": {},
     "output_type": "display_data"
    }
   ],
   "source": [
    "model = joblib.load(\"trained_Random Forest_model.pkl\")\n",
    "\n",
    "# Get feature importances\n",
    "features = tfidf_vectorizer.get_feature_names_out()\n",
    "importances = model.feature_importances_\n",
    "\n",
    "# Sort feature importances in descending order\n",
    "indices = np.argsort(importances)[::-1]\n",
    "\n",
    "# Number of top features to display\n",
    "top_n = 20  # Adjust this value as needed\n",
    "\n",
    "# Plot top N feature importances\n",
    "plt.figure(figsize=(10, 6))\n",
    "plt.bar(range(top_n), importances[indices][:top_n], align='center')\n",
    "plt.xticks(range(top_n), [features[i] for i in indices][:top_n], rotation=90)\n",
    "plt.xlabel('Feature')\n",
    "plt.ylabel('Feature Importance')\n",
    "plt.title(f'Top {top_n} Feature Importances')\n",
    "# Save the plot as a PDF file\n",
    "plt.savefig(\"feature_importances.pdf\")\n",
    "plt.show()"
   ]
  },
  {
   "cell_type": "code",
   "execution_count": 26,
   "metadata": {},
   "outputs": [
    {
     "data": {
      "text/plain": [
       "<Figure size 640x480 with 0 Axes>"
      ]
     },
     "metadata": {},
     "output_type": "display_data"
    }
   ],
   "source": []
  },
  {
   "cell_type": "code",
   "execution_count": null,
   "metadata": {},
   "outputs": [],
   "source": []
  }
 ],
 "metadata": {
  "kernelspec": {
   "display_name": "Python 3",
   "language": "python",
   "name": "python3"
  },
  "language_info": {
   "codemirror_mode": {
    "name": "ipython",
    "version": 3
   },
   "file_extension": ".py",
   "mimetype": "text/x-python",
   "name": "python",
   "nbconvert_exporter": "python",
   "pygments_lexer": "ipython3",
   "version": "3.11.2"
  }
 },
 "nbformat": 4,
 "nbformat_minor": 2
}
