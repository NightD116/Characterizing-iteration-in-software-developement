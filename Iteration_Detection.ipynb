{
 "cells": [
  {
   "cell_type": "markdown",
   "metadata": {},
   "source": [
    "Define needed libraries\n",
    "- pandas:"
   ]
  },
  {
   "cell_type": "code",
   "execution_count": 40,
   "metadata": {},
   "outputs": [],
   "source": [
    "import pandas as pd\n",
    "import json"
   ]
  },
  {
   "cell_type": "code",
   "execution_count": 11,
   "metadata": {},
   "outputs": [
    {
     "data": {
      "text/html": [
       "<div>\n",
       "<style scoped>\n",
       "    .dataframe tbody tr th:only-of-type {\n",
       "        vertical-align: middle;\n",
       "    }\n",
       "\n",
       "    .dataframe tbody tr th {\n",
       "        vertical-align: top;\n",
       "    }\n",
       "\n",
       "    .dataframe thead th {\n",
       "        text-align: right;\n",
       "    }\n",
       "</style>\n",
       "<table border=\"1\" class=\"dataframe\">\n",
       "  <thead>\n",
       "    <tr style=\"text-align: right;\">\n",
       "      <th></th>\n",
       "      <th>Unnamed: 0</th>\n",
       "      <th>url</th>\n",
       "      <th>repository_url</th>\n",
       "      <th>labels_url</th>\n",
       "      <th>comments_url</th>\n",
       "      <th>events_url</th>\n",
       "      <th>html_url</th>\n",
       "      <th>id</th>\n",
       "      <th>node_id</th>\n",
       "      <th>number</th>\n",
       "      <th>...</th>\n",
       "      <th>closed_at</th>\n",
       "      <th>author_association</th>\n",
       "      <th>active_lock_reason</th>\n",
       "      <th>draft</th>\n",
       "      <th>pull_request</th>\n",
       "      <th>body</th>\n",
       "      <th>reactions</th>\n",
       "      <th>timeline_url</th>\n",
       "      <th>performed_via_github_app</th>\n",
       "      <th>state_reason</th>\n",
       "    </tr>\n",
       "  </thead>\n",
       "  <tbody>\n",
       "    <tr>\n",
       "      <th>0</th>\n",
       "      <td>0</td>\n",
       "      <td>https://api.github.com/repos/stanfordnlp/dspy/...</td>\n",
       "      <td>https://api.github.com/repos/stanfordnlp/dspy</td>\n",
       "      <td>https://api.github.com/repos/stanfordnlp/dspy/...</td>\n",
       "      <td>https://api.github.com/repos/stanfordnlp/dspy/...</td>\n",
       "      <td>https://api.github.com/repos/stanfordnlp/dspy/...</td>\n",
       "      <td>https://github.com/stanfordnlp/dspy/pull/731</td>\n",
       "      <td>2213863584</td>\n",
       "      <td>PR_kwDOIv2ufM5rFpZ3</td>\n",
       "      <td>731</td>\n",
       "      <td>...</td>\n",
       "      <td>2024-03-28T18:34:24Z</td>\n",
       "      <td>NONE</td>\n",
       "      <td>NaN</td>\n",
       "      <td>True</td>\n",
       "      <td>{'url': 'https://api.github.com/repos/stanford...</td>\n",
       "      <td>Fixes #728 \\r\\n\\r\\n-[ ] Squash commits, obey c...</td>\n",
       "      <td>{'url': 'https://api.github.com/repos/stanford...</td>\n",
       "      <td>https://api.github.com/repos/stanfordnlp/dspy/...</td>\n",
       "      <td>NaN</td>\n",
       "      <td>NaN</td>\n",
       "    </tr>\n",
       "    <tr>\n",
       "      <th>1</th>\n",
       "      <td>1</td>\n",
       "      <td>https://api.github.com/repos/stanfordnlp/dspy/...</td>\n",
       "      <td>https://api.github.com/repos/stanfordnlp/dspy</td>\n",
       "      <td>https://api.github.com/repos/stanfordnlp/dspy/...</td>\n",
       "      <td>https://api.github.com/repos/stanfordnlp/dspy/...</td>\n",
       "      <td>https://api.github.com/repos/stanfordnlp/dspy/...</td>\n",
       "      <td>https://github.com/stanfordnlp/dspy/pull/727</td>\n",
       "      <td>2212499670</td>\n",
       "      <td>PR_kwDOIv2ufM5rA-MK</td>\n",
       "      <td>727</td>\n",
       "      <td>...</td>\n",
       "      <td>2024-03-28T07:03:00Z</td>\n",
       "      <td>CONTRIBUTOR</td>\n",
       "      <td>NaN</td>\n",
       "      <td>False</td>\n",
       "      <td>{'url': 'https://api.github.com/repos/stanford...</td>\n",
       "      <td>NaN</td>\n",
       "      <td>{'url': 'https://api.github.com/repos/stanford...</td>\n",
       "      <td>https://api.github.com/repos/stanfordnlp/dspy/...</td>\n",
       "      <td>NaN</td>\n",
       "      <td>NaN</td>\n",
       "    </tr>\n",
       "    <tr>\n",
       "      <th>2</th>\n",
       "      <td>2</td>\n",
       "      <td>https://api.github.com/repos/stanfordnlp/dspy/...</td>\n",
       "      <td>https://api.github.com/repos/stanfordnlp/dspy</td>\n",
       "      <td>https://api.github.com/repos/stanfordnlp/dspy/...</td>\n",
       "      <td>https://api.github.com/repos/stanfordnlp/dspy/...</td>\n",
       "      <td>https://api.github.com/repos/stanfordnlp/dspy/...</td>\n",
       "      <td>https://github.com/stanfordnlp/dspy/pull/716</td>\n",
       "      <td>2206781646</td>\n",
       "      <td>PR_kwDOIv2ufM5qtol2</td>\n",
       "      <td>716</td>\n",
       "      <td>...</td>\n",
       "      <td>2024-03-27T14:23:18Z</td>\n",
       "      <td>COLLABORATOR</td>\n",
       "      <td>NaN</td>\n",
       "      <td>False</td>\n",
       "      <td>{'url': 'https://api.github.com/repos/stanford...</td>\n",
       "      <td>Cohere has deprecated the /generate API in fav...</td>\n",
       "      <td>{'url': 'https://api.github.com/repos/stanford...</td>\n",
       "      <td>https://api.github.com/repos/stanfordnlp/dspy/...</td>\n",
       "      <td>NaN</td>\n",
       "      <td>NaN</td>\n",
       "    </tr>\n",
       "    <tr>\n",
       "      <th>3</th>\n",
       "      <td>3</td>\n",
       "      <td>https://api.github.com/repos/stanfordnlp/dspy/...</td>\n",
       "      <td>https://api.github.com/repos/stanfordnlp/dspy</td>\n",
       "      <td>https://api.github.com/repos/stanfordnlp/dspy/...</td>\n",
       "      <td>https://api.github.com/repos/stanfordnlp/dspy/...</td>\n",
       "      <td>https://api.github.com/repos/stanfordnlp/dspy/...</td>\n",
       "      <td>https://github.com/stanfordnlp/dspy/issues/715</td>\n",
       "      <td>2206761080</td>\n",
       "      <td>I_kwDOIv2ufM6DiIB4</td>\n",
       "      <td>715</td>\n",
       "      <td>...</td>\n",
       "      <td>2024-03-25T22:31:19Z</td>\n",
       "      <td>COLLABORATOR</td>\n",
       "      <td>NaN</td>\n",
       "      <td>NaN</td>\n",
       "      <td>NaN</td>\n",
       "      <td>Consider these three programs:\\r\\n\\r\\n**Progra...</td>\n",
       "      <td>{'url': 'https://api.github.com/repos/stanford...</td>\n",
       "      <td>https://api.github.com/repos/stanfordnlp/dspy/...</td>\n",
       "      <td>NaN</td>\n",
       "      <td>completed</td>\n",
       "    </tr>\n",
       "    <tr>\n",
       "      <th>4</th>\n",
       "      <td>4</td>\n",
       "      <td>https://api.github.com/repos/stanfordnlp/dspy/...</td>\n",
       "      <td>https://api.github.com/repos/stanfordnlp/dspy</td>\n",
       "      <td>https://api.github.com/repos/stanfordnlp/dspy/...</td>\n",
       "      <td>https://api.github.com/repos/stanfordnlp/dspy/...</td>\n",
       "      <td>https://api.github.com/repos/stanfordnlp/dspy/...</td>\n",
       "      <td>https://github.com/stanfordnlp/dspy/pull/714</td>\n",
       "      <td>2206709999</td>\n",
       "      <td>PR_kwDOIv2ufM5qtY5U</td>\n",
       "      <td>714</td>\n",
       "      <td>...</td>\n",
       "      <td>2024-03-26T16:22:27Z</td>\n",
       "      <td>CONTRIBUTOR</td>\n",
       "      <td>NaN</td>\n",
       "      <td>False</td>\n",
       "      <td>{'url': 'https://api.github.com/repos/stanford...</td>\n",
       "      <td>NaN</td>\n",
       "      <td>{'url': 'https://api.github.com/repos/stanford...</td>\n",
       "      <td>https://api.github.com/repos/stanfordnlp/dspy/...</td>\n",
       "      <td>NaN</td>\n",
       "      <td>NaN</td>\n",
       "    </tr>\n",
       "  </tbody>\n",
       "</table>\n",
       "<p>5 rows × 31 columns</p>\n",
       "</div>"
      ],
      "text/plain": [
       "   Unnamed: 0                                                url  \\\n",
       "0           0  https://api.github.com/repos/stanfordnlp/dspy/...   \n",
       "1           1  https://api.github.com/repos/stanfordnlp/dspy/...   \n",
       "2           2  https://api.github.com/repos/stanfordnlp/dspy/...   \n",
       "3           3  https://api.github.com/repos/stanfordnlp/dspy/...   \n",
       "4           4  https://api.github.com/repos/stanfordnlp/dspy/...   \n",
       "\n",
       "                                  repository_url  \\\n",
       "0  https://api.github.com/repos/stanfordnlp/dspy   \n",
       "1  https://api.github.com/repos/stanfordnlp/dspy   \n",
       "2  https://api.github.com/repos/stanfordnlp/dspy   \n",
       "3  https://api.github.com/repos/stanfordnlp/dspy   \n",
       "4  https://api.github.com/repos/stanfordnlp/dspy   \n",
       "\n",
       "                                          labels_url  \\\n",
       "0  https://api.github.com/repos/stanfordnlp/dspy/...   \n",
       "1  https://api.github.com/repos/stanfordnlp/dspy/...   \n",
       "2  https://api.github.com/repos/stanfordnlp/dspy/...   \n",
       "3  https://api.github.com/repos/stanfordnlp/dspy/...   \n",
       "4  https://api.github.com/repos/stanfordnlp/dspy/...   \n",
       "\n",
       "                                        comments_url  \\\n",
       "0  https://api.github.com/repos/stanfordnlp/dspy/...   \n",
       "1  https://api.github.com/repos/stanfordnlp/dspy/...   \n",
       "2  https://api.github.com/repos/stanfordnlp/dspy/...   \n",
       "3  https://api.github.com/repos/stanfordnlp/dspy/...   \n",
       "4  https://api.github.com/repos/stanfordnlp/dspy/...   \n",
       "\n",
       "                                          events_url  \\\n",
       "0  https://api.github.com/repos/stanfordnlp/dspy/...   \n",
       "1  https://api.github.com/repos/stanfordnlp/dspy/...   \n",
       "2  https://api.github.com/repos/stanfordnlp/dspy/...   \n",
       "3  https://api.github.com/repos/stanfordnlp/dspy/...   \n",
       "4  https://api.github.com/repos/stanfordnlp/dspy/...   \n",
       "\n",
       "                                         html_url          id  \\\n",
       "0    https://github.com/stanfordnlp/dspy/pull/731  2213863584   \n",
       "1    https://github.com/stanfordnlp/dspy/pull/727  2212499670   \n",
       "2    https://github.com/stanfordnlp/dspy/pull/716  2206781646   \n",
       "3  https://github.com/stanfordnlp/dspy/issues/715  2206761080   \n",
       "4    https://github.com/stanfordnlp/dspy/pull/714  2206709999   \n",
       "\n",
       "               node_id  number  ...             closed_at author_association  \\\n",
       "0  PR_kwDOIv2ufM5rFpZ3     731  ...  2024-03-28T18:34:24Z               NONE   \n",
       "1  PR_kwDOIv2ufM5rA-MK     727  ...  2024-03-28T07:03:00Z        CONTRIBUTOR   \n",
       "2  PR_kwDOIv2ufM5qtol2     716  ...  2024-03-27T14:23:18Z       COLLABORATOR   \n",
       "3   I_kwDOIv2ufM6DiIB4     715  ...  2024-03-25T22:31:19Z       COLLABORATOR   \n",
       "4  PR_kwDOIv2ufM5qtY5U     714  ...  2024-03-26T16:22:27Z        CONTRIBUTOR   \n",
       "\n",
       "  active_lock_reason  draft  \\\n",
       "0                NaN   True   \n",
       "1                NaN  False   \n",
       "2                NaN  False   \n",
       "3                NaN    NaN   \n",
       "4                NaN  False   \n",
       "\n",
       "                                        pull_request  \\\n",
       "0  {'url': 'https://api.github.com/repos/stanford...   \n",
       "1  {'url': 'https://api.github.com/repos/stanford...   \n",
       "2  {'url': 'https://api.github.com/repos/stanford...   \n",
       "3                                                NaN   \n",
       "4  {'url': 'https://api.github.com/repos/stanford...   \n",
       "\n",
       "                                                body  \\\n",
       "0  Fixes #728 \\r\\n\\r\\n-[ ] Squash commits, obey c...   \n",
       "1                                                NaN   \n",
       "2  Cohere has deprecated the /generate API in fav...   \n",
       "3  Consider these three programs:\\r\\n\\r\\n**Progra...   \n",
       "4                                                NaN   \n",
       "\n",
       "                                           reactions  \\\n",
       "0  {'url': 'https://api.github.com/repos/stanford...   \n",
       "1  {'url': 'https://api.github.com/repos/stanford...   \n",
       "2  {'url': 'https://api.github.com/repos/stanford...   \n",
       "3  {'url': 'https://api.github.com/repos/stanford...   \n",
       "4  {'url': 'https://api.github.com/repos/stanford...   \n",
       "\n",
       "                                        timeline_url  \\\n",
       "0  https://api.github.com/repos/stanfordnlp/dspy/...   \n",
       "1  https://api.github.com/repos/stanfordnlp/dspy/...   \n",
       "2  https://api.github.com/repos/stanfordnlp/dspy/...   \n",
       "3  https://api.github.com/repos/stanfordnlp/dspy/...   \n",
       "4  https://api.github.com/repos/stanfordnlp/dspy/...   \n",
       "\n",
       "   performed_via_github_app state_reason  \n",
       "0                       NaN          NaN  \n",
       "1                       NaN          NaN  \n",
       "2                       NaN          NaN  \n",
       "3                       NaN    completed  \n",
       "4                       NaN          NaN  \n",
       "\n",
       "[5 rows x 31 columns]"
      ]
     },
     "execution_count": 11,
     "metadata": {},
     "output_type": "execute_result"
    }
   ],
   "source": [
    "issues_df = pd.read_csv(\"stanfordnlp_dspy_issues_data_raw.csv\")\n",
    "issues_df.head()"
   ]
  },
  {
   "cell_type": "code",
   "execution_count": 12,
   "metadata": {},
   "outputs": [
    {
     "data": {
      "text/plain": [
       "Index(['Unnamed: 0', 'url', 'repository_url', 'labels_url', 'comments_url',\n",
       "       'events_url', 'html_url', 'id', 'node_id', 'number', 'title', 'user',\n",
       "       'labels', 'state', 'locked', 'assignee', 'assignees', 'milestone',\n",
       "       'comments', 'created_at', 'updated_at', 'closed_at',\n",
       "       'author_association', 'active_lock_reason', 'draft', 'pull_request',\n",
       "       'body', 'reactions', 'timeline_url', 'performed_via_github_app',\n",
       "       'state_reason'],\n",
       "      dtype='object')"
      ]
     },
     "execution_count": 12,
     "metadata": {},
     "output_type": "execute_result"
    }
   ],
   "source": [
    "issues_df.columns"
   ]
  },
  {
   "cell_type": "code",
   "execution_count": 13,
   "metadata": {},
   "outputs": [
    {
     "data": {
      "text/plain": [
       "Index(['url', 'repository_url', 'labels_url', 'comments_url', 'events_url',\n",
       "       'html_url', 'id', 'node_id', 'number', 'title', 'user', 'labels',\n",
       "       'state', 'locked', 'assignee', 'assignees', 'milestone', 'comments',\n",
       "       'created_at', 'updated_at', 'closed_at', 'author_association',\n",
       "       'active_lock_reason', 'draft', 'pull_request', 'body', 'reactions',\n",
       "       'timeline_url', 'performed_via_github_app', 'state_reason'],\n",
       "      dtype='object')"
      ]
     },
     "execution_count": 13,
     "metadata": {},
     "output_type": "execute_result"
    }
   ],
   "source": [
    "issues_df.pop(\"Unnamed: 0\")\n",
    "issues_df.columns"
   ]
  },
  {
   "cell_type": "code",
   "execution_count": 62,
   "metadata": {},
   "outputs": [
    {
     "data": {
      "text/plain": [
       "\"{'url': 'https://api.github.com/repos/stanfordnlp/dspy/pulls/731', 'html_url': 'https://github.com/stanfordnlp/dspy/pull/731', 'diff_url': 'https://github.com/stanfordnlp/dspy/pull/731.diff', 'patch_url': 'https://github.com/stanfordnlp/dspy/pull/731.patch', 'merged_at': None}\""
      ]
     },
     "execution_count": 62,
     "metadata": {},
     "output_type": "execute_result"
    }
   ],
   "source": [
    "issues_df.iloc[0].pull_request"
   ]
  },
  {
   "cell_type": "code",
   "execution_count": 15,
   "metadata": {},
   "outputs": [
    {
     "data": {
      "text/plain": [
       "Index(['Unnamed: 0', 'url', 'id', 'node_id', 'html_url', 'diff_url',\n",
       "       'patch_url', 'issue_url', 'number', 'state', 'locked', 'title', 'user',\n",
       "       'body', 'created_at', 'updated_at', 'closed_at', 'merged_at',\n",
       "       'merge_commit_sha', 'assignee', 'assignees', 'requested_reviewers',\n",
       "       'requested_teams', 'labels', 'milestone', 'draft', 'commits_url',\n",
       "       'review_comments_url', 'review_comment_url', 'comments_url',\n",
       "       'statuses_url', 'head', 'base', '_links', 'author_association',\n",
       "       'auto_merge', 'active_lock_reason'],\n",
       "      dtype='object')"
      ]
     },
     "execution_count": 15,
     "metadata": {},
     "output_type": "execute_result"
    }
   ],
   "source": [
    "pulls_df = pd.read_csv(\"stanfordnlp_dspy_pulls_data_raw.csv\")\n",
    "pulls_df.columns"
   ]
  },
  {
   "cell_type": "code",
   "execution_count": 16,
   "metadata": {},
   "outputs": [
    {
     "data": {
      "text/plain": [
       "Index(['url', 'id', 'node_id', 'html_url', 'diff_url', 'patch_url',\n",
       "       'issue_url', 'number', 'state', 'locked', 'title', 'user', 'body',\n",
       "       'created_at', 'updated_at', 'closed_at', 'merged_at',\n",
       "       'merge_commit_sha', 'assignee', 'assignees', 'requested_reviewers',\n",
       "       'requested_teams', 'labels', 'milestone', 'draft', 'commits_url',\n",
       "       'review_comments_url', 'review_comment_url', 'comments_url',\n",
       "       'statuses_url', 'head', 'base', '_links', 'author_association',\n",
       "       'auto_merge', 'active_lock_reason'],\n",
       "      dtype='object')"
      ]
     },
     "execution_count": 16,
     "metadata": {},
     "output_type": "execute_result"
    }
   ],
   "source": [
    "pulls_df.pop(\"Unnamed: 0\")\n",
    "pulls_df.columns"
   ]
  },
  {
   "cell_type": "code",
   "execution_count": 17,
   "metadata": {},
   "outputs": [
    {
     "data": {
      "text/plain": [
       "url                    https://api.github.com/repos/stanfordnlp/dspy/...\n",
       "id                                                            1796642423\n",
       "node_id                                              PR_kwDOIv2ufM5rFpZ3\n",
       "html_url                    https://github.com/stanfordnlp/dspy/pull/731\n",
       "diff_url               https://github.com/stanfordnlp/dspy/pull/731.diff\n",
       "patch_url              https://github.com/stanfordnlp/dspy/pull/731.p...\n",
       "issue_url              https://api.github.com/repos/stanfordnlp/dspy/...\n",
       "number                                                               731\n",
       "state                                                             closed\n",
       "locked                                                             False\n",
       "title                                               Fix OpenAIVectorizer\n",
       "user                   {'login': 'harrysalmon', 'id': 8916657, 'node_...\n",
       "body                   Fixes #728 \\r\\n\\r\\n-[ ] Squash commits, obey c...\n",
       "created_at                                          2024-03-28T18:24:16Z\n",
       "updated_at                                          2024-03-28T18:34:24Z\n",
       "closed_at                                           2024-03-28T18:34:24Z\n",
       "merged_at                                                            NaN\n",
       "merge_commit_sha                b5493371c31e8b1fc4c0be8f323c20aaea738a46\n",
       "assignee                                                             NaN\n",
       "assignees                                                             []\n",
       "requested_reviewers                                                   []\n",
       "requested_teams                                                       []\n",
       "labels                                                                []\n",
       "milestone                                                            NaN\n",
       "draft                                                               True\n",
       "commits_url            https://api.github.com/repos/stanfordnlp/dspy/...\n",
       "review_comments_url    https://api.github.com/repos/stanfordnlp/dspy/...\n",
       "review_comment_url     https://api.github.com/repos/stanfordnlp/dspy/...\n",
       "comments_url           https://api.github.com/repos/stanfordnlp/dspy/...\n",
       "statuses_url           https://api.github.com/repos/stanfordnlp/dspy/...\n",
       "head                   {'label': 'harrysalmon:fix-OpenAIVectorizer', ...\n",
       "base                   {'label': 'stanfordnlp:main', 'ref': 'main', '...\n",
       "_links                 {'self': {'href': 'https://api.github.com/repo...\n",
       "author_association                                                  NONE\n",
       "auto_merge                                                           NaN\n",
       "active_lock_reason                                                   NaN\n",
       "Name: 0, dtype: object"
      ]
     },
     "execution_count": 17,
     "metadata": {},
     "output_type": "execute_result"
    }
   ],
   "source": [
    "pulls_df.iloc[0]"
   ]
  },
  {
   "cell_type": "code",
   "execution_count": 18,
   "metadata": {},
   "outputs": [
    {
     "data": {
      "text/html": [
       "<div>\n",
       "<style scoped>\n",
       "    .dataframe tbody tr th:only-of-type {\n",
       "        vertical-align: middle;\n",
       "    }\n",
       "\n",
       "    .dataframe tbody tr th {\n",
       "        vertical-align: top;\n",
       "    }\n",
       "\n",
       "    .dataframe thead th {\n",
       "        text-align: right;\n",
       "    }\n",
       "</style>\n",
       "<table border=\"1\" class=\"dataframe\">\n",
       "  <thead>\n",
       "    <tr style=\"text-align: right;\">\n",
       "      <th></th>\n",
       "      <th>url</th>\n",
       "      <th>id</th>\n",
       "      <th>node_id</th>\n",
       "      <th>html_url</th>\n",
       "      <th>diff_url</th>\n",
       "      <th>patch_url</th>\n",
       "      <th>issue_url</th>\n",
       "      <th>number</th>\n",
       "      <th>state</th>\n",
       "      <th>locked</th>\n",
       "      <th>...</th>\n",
       "      <th>review_comments_url</th>\n",
       "      <th>review_comment_url</th>\n",
       "      <th>comments_url</th>\n",
       "      <th>statuses_url</th>\n",
       "      <th>head</th>\n",
       "      <th>base</th>\n",
       "      <th>_links</th>\n",
       "      <th>author_association</th>\n",
       "      <th>auto_merge</th>\n",
       "      <th>active_lock_reason</th>\n",
       "    </tr>\n",
       "  </thead>\n",
       "  <tbody>\n",
       "  </tbody>\n",
       "</table>\n",
       "<p>0 rows × 36 columns</p>\n",
       "</div>"
      ],
      "text/plain": [
       "Empty DataFrame\n",
       "Columns: [url, id, node_id, html_url, diff_url, patch_url, issue_url, number, state, locked, title, user, body, created_at, updated_at, closed_at, merged_at, merge_commit_sha, assignee, assignees, requested_reviewers, requested_teams, labels, milestone, draft, commits_url, review_comments_url, review_comment_url, comments_url, statuses_url, head, base, _links, author_association, auto_merge, active_lock_reason]\n",
       "Index: []\n",
       "\n",
       "[0 rows x 36 columns]"
      ]
     },
     "execution_count": 18,
     "metadata": {},
     "output_type": "execute_result"
    }
   ],
   "source": [
    "pulls_df[pulls_df.review_comments_url.isna()]"
   ]
  },
  {
   "cell_type": "code",
   "execution_count": 19,
   "metadata": {},
   "outputs": [
    {
     "data": {
      "text/plain": [
       "Index(['Unnamed: 0', 'id', 'type', 'actor', 'repo', 'payload', 'public',\n",
       "       'created_at', 'org'],\n",
       "      dtype='object')"
      ]
     },
     "execution_count": 19,
     "metadata": {},
     "output_type": "execute_result"
    }
   ],
   "source": [
    "events_df = pd.read_csv(\"stanfordnlp_dspy_events_data_raw.csv\")\n",
    "events_df.columns"
   ]
  },
  {
   "cell_type": "code",
   "execution_count": 20,
   "metadata": {},
   "outputs": [
    {
     "data": {
      "text/plain": [
       "Index(['id', 'type', 'actor', 'repo', 'payload', 'public', 'created_at',\n",
       "       'org'],\n",
       "      dtype='object')"
      ]
     },
     "execution_count": 20,
     "metadata": {},
     "output_type": "execute_result"
    }
   ],
   "source": [
    "events_df.pop(\"Unnamed: 0\")\n",
    "events_df.columns"
   ]
  },
  {
   "cell_type": "code",
   "execution_count": 34,
   "metadata": {},
   "outputs": [
    {
     "data": {
      "text/plain": [
       "str"
      ]
     },
     "execution_count": 34,
     "metadata": {},
     "output_type": "execute_result"
    }
   ],
   "source": [
    "type(events_df[events_df.type==\"PullRequestReviewEvent\"].iloc[0].payload)"
   ]
  },
  {
   "cell_type": "code",
   "execution_count": 59,
   "metadata": {},
   "outputs": [
    {
     "data": {
      "text/plain": [
       "(8, 8)"
      ]
     },
     "execution_count": 59,
     "metadata": {},
     "output_type": "execute_result"
    }
   ],
   "source": [
    "events_df[events_df.type==\"PullRequestReviewEvent\"].shape"
   ]
  },
  {
   "cell_type": "code",
   "execution_count": 58,
   "metadata": {},
   "outputs": [
    {
     "data": {
      "text/plain": [
       "\"{'action': 'created', 'review': {'id': 1967123762, 'node_id': 'PRR_kwDOIv2ufM51P-0y', 'user': {'login': 'harrysalmon', 'id': 8916657, 'node_id': 'MDQ6VXNlcjg5MTY2NTc=', 'avatar_url': 'https://avatars.githubusercontent.com/u/8916657?v=4', 'gravatar_id': '', 'url': 'https://api.github.com/users/harrysalmon', 'html_url': 'https://github.com/harrysalmon', 'followers_url': 'https://api.github.com/users/harrysalmon/followers', 'following_url': 'https://api.github.com/users/harrysalmon/following{/other_user}', 'gists_url': 'https://api.github.com/users/harrysalmon/gists{/gist_id}', 'starred_url': 'https://api.github.com/users/harrysalmon/starred{/owner}{/repo}', 'subscriptions_url': 'https://api.github.com/users/harrysalmon/subscriptions', 'organizations_url': 'https://api.github.com/users/harrysalmon/orgs', 'repos_url': 'https://api.github.com/users/harrysalmon/repos', 'events_url': 'https://api.github.com/users/harrysalmon/events{/privacy}', 'received_events_url': 'https://api.github.com/users/harrysalmon/received_events', 'type': 'User', 'site_admin': False}, 'body': None, 'commit_id': 'da899228202475936b35dd311e1385487bb68f26', 'submitted_at': '2024-03-28T19:43:35Z', 'state': 'commented', 'html_url': 'https://github.com/stanfordnlp/dspy/pull/734#pullrequestreview-1967123762', 'pull_request_url': 'https://api.github.com/repos/stanfordnlp/dspy/pulls/734', 'author_association': 'NONE', '_links': {'html': {'href': 'https://github.com/stanfordnlp/dspy/pull/734#pullrequestreview-1967123762'}, 'pull_request': {'href': 'https://api.github.com/repos/stanfordnlp/dspy/pulls/734'}}}, 'pull_request': {'url': 'https://api.github.com/repos/stanfordnlp/dspy/pulls/734', 'id': 1796757762, 'node_id': 'PR_kwDOIv2ufM5rGFkC', 'html_url': 'https://github.com/stanfordnlp/dspy/pull/734', 'diff_url': 'https://github.com/stanfordnlp/dspy/pull/734.diff', 'patch_url': 'https://github.com/stanfordnlp/dspy/pull/734.patch', 'issue_url': 'https://api.github.com/repos/stanfordnlp/dspy/issues/734', 'number': 734, 'state': 'open', 'locked': False, 'title': 'enh(dspy): Move max_tokens explicitally into `GPT3` constructor', 'user': {'login': 'harrysalmon', 'id': 8916657, 'node_id': 'MDQ6VXNlcjg5MTY2NTc=', 'avatar_url': 'https://avatars.githubusercontent.com/u/8916657?v=4', 'gravatar_id': '', 'url': 'https://api.github.com/users/harrysalmon', 'html_url': 'https://github.com/harrysalmon', 'followers_url': 'https://api.github.com/users/harrysalmon/followers', 'following_url': 'https://api.github.com/users/harrysalmon/following{/other_user}', 'gists_url': 'https://api.github.com/users/harrysalmon/gists{/gist_id}', 'starred_url': 'https://api.github.com/users/harrysalmon/starred{/owner}{/repo}', 'subscriptions_url': 'https://api.github.com/users/harrysalmon/subscriptions', 'organizations_url': 'https://api.github.com/users/harrysalmon/orgs', 'repos_url': 'https://api.github.com/users/harrysalmon/repos', 'events_url': 'https://api.github.com/users/harrysalmon/events{/privacy}', 'received_events_url': 'https://api.github.com/users/harrysalmon/received_events', 'type': 'User', 'site_admin': False}, 'body': 'Makes the reason for output truncation clearer as per #730\\\\r\\\\n\\\\r\\\\nAlso adds a comment to the predict file where the max tokens are modified before the call is made.', 'created_at': '2024-03-28T19:38:49Z', 'updated_at': '2024-03-28T19:43:35Z', 'closed_at': None, 'merged_at': None, 'merge_commit_sha': 'b5964a98262e4c28ff93150a128c1fb5f2fa566d', 'assignee': None, 'assignees': [], 'requested_reviewers': [], 'requested_teams': [], 'labels': [], 'milestone': None, 'draft': True, 'commits_url': 'https://api.github.com/repos/stanfordnlp/dspy/pulls/734/commits', 'review_comments_url': 'https://api.github.com/repos/stanfordnlp/dspy/pulls/734/comments', 'review_comment_url': 'https://api.github.com/repos/stanfordnlp/dspy/pulls/comments{/number}', 'comments_url': 'https://api.github.com/repos/stanfordnlp/dspy/issues/734/comments', 'statuses_url': 'https://api.github.com/repos/stanfordnlp/dspy/statuses/da899228202475936b35dd311e1385487bb68f26', 'head': {'label': 'harrysalmon:surface-max_tokens', 'ref': 'surface-max_tokens', 'sha': 'da899228202475936b35dd311e1385487bb68f26', 'user': {'login': 'harrysalmon', 'id': 8916657, 'node_id': 'MDQ6VXNlcjg5MTY2NTc=', 'avatar_url': 'https://avatars.githubusercontent.com/u/8916657?v=4', 'gravatar_id': '', 'url': 'https://api.github.com/users/harrysalmon', 'html_url': 'https://github.com/harrysalmon', 'followers_url': 'https://api.github.com/users/harrysalmon/followers', 'following_url': 'https://api.github.com/users/harrysalmon/following{/other_user}', 'gists_url': 'https://api.github.com/users/harrysalmon/gists{/gist_id}', 'starred_url': 'https://api.github.com/users/harrysalmon/starred{/owner}{/repo}', 'subscriptions_url': 'https://api.github.com/users/harrysalmon/subscriptions', 'organizations_url': 'https://api.github.com/users/harrysalmon/orgs', 'repos_url': 'https://api.github.com/users/harrysalmon/repos', 'events_url': 'https://api.github.com/users/harrysalmon/events{/privacy}', 'received_events_url': 'https://api.github.com/users/harrysalmon/received_events', 'type': 'User', 'site_admin': False}, 'repo': {'id': 778918535, 'node_id': 'R_kgDOLm1ahw', 'name': 'dspy', 'full_name': 'harrysalmon/dspy', 'private': False, 'owner': {'login': 'harrysalmon', 'id': 8916657, 'node_id': 'MDQ6VXNlcjg5MTY2NTc=', 'avatar_url': 'https://avatars.githubusercontent.com/u/8916657?v=4', 'gravatar_id': '', 'url': 'https://api.github.com/users/harrysalmon', 'html_url': 'https://github.com/harrysalmon', 'followers_url': 'https://api.github.com/users/harrysalmon/followers', 'following_url': 'https://api.github.com/users/harrysalmon/following{/other_user}', 'gists_url': 'https://api.github.com/users/harrysalmon/gists{/gist_id}', 'starred_url': 'https://api.github.com/users/harrysalmon/starred{/owner}{/repo}', 'subscriptions_url': 'https://api.github.com/users/harrysalmon/subscriptions', 'organizations_url': 'https://api.github.com/users/harrysalmon/orgs', 'repos_url': 'https://api.github.com/users/harrysalmon/repos', 'events_url': 'https://api.github.com/users/harrysalmon/events{/privacy}', 'received_events_url': 'https://api.github.com/users/harrysalmon/received_events', 'type': 'User', 'site_admin': False}, 'html_url': 'https://github.com/harrysalmon/dspy', 'description': 'DSPy: The framework for programming—not prompting—foundation models', 'fork': True, 'url': 'https://api.github.com/repos/harrysalmon/dspy', 'forks_url': 'https://api.github.com/repos/harrysalmon/dspy/forks', 'keys_url': 'https://api.github.com/repos/harrysalmon/dspy/keys{/key_id}', 'collaborators_url': 'https://api.github.com/repos/harrysalmon/dspy/collaborators{/collaborator}', 'teams_url': 'https://api.github.com/repos/harrysalmon/dspy/teams', 'hooks_url': 'https://api.github.com/repos/harrysalmon/dspy/hooks', 'issue_events_url': 'https://api.github.com/repos/harrysalmon/dspy/issues/events{/number}', 'events_url': 'https://api.github.com/repos/harrysalmon/dspy/events', 'assignees_url': 'https://api.github.com/repos/harrysalmon/dspy/assignees{/user}', 'branches_url': 'https://api.github.com/repos/harrysalmon/dspy/branches{/branch}', 'tags_url': 'https://api.github.com/repos/harrysalmon/dspy/tags', 'blobs_url': 'https://api.github.com/repos/harrysalmon/dspy/git/blobs{/sha}', 'git_tags_url': 'https://api.github.com/repos/harrysalmon/dspy/git/tags{/sha}', 'git_refs_url': 'https://api.github.com/repos/harrysalmon/dspy/git/refs{/sha}', 'trees_url': 'https://api.github.com/repos/harrysalmon/dspy/git/trees{/sha}', 'statuses_url': 'https://api.github.com/repos/harrysalmon/dspy/statuses/{sha}', 'languages_url': 'https://api.github.com/repos/harrysalmon/dspy/languages', 'stargazers_url': 'https://api.github.com/repos/harrysalmon/dspy/stargazers', 'contributors_url': 'https://api.github.com/repos/harrysalmon/dspy/contributors', 'subscribers_url': 'https://api.github.com/repos/harrysalmon/dspy/subscribers', 'subscription_url': 'https://api.github.com/repos/harrysalmon/dspy/subscription', 'commits_url': 'https://api.github.com/repos/harrysalmon/dspy/commits{/sha}', 'git_commits_url': 'https://api.github.com/repos/harrysalmon/dspy/git/commits{/sha}', 'comments_url': 'https://api.github.com/repos/harrysalmon/dspy/comments{/number}', 'issue_comment_url': 'https://api.github.com/repos/harrysalmon/dspy/issues/comments{/number}', 'contents_url': 'https://api.github.com/repos/harrysalmon/dspy/contents/{+path}', 'compare_url': 'https://api.github.com/repos/harrysalmon/dspy/compare/{base}...{head}', 'merges_url': 'https://api.github.com/repos/harrysalmon/dspy/merges', 'archive_url': 'https://api.github.com/repos/harrysalmon/dspy/{archive_format}{/ref}', 'downloads_url': 'https://api.github.com/repos/harrysalmon/dspy/downloads', 'issues_url': 'https://api.github.com/repos/harrysalmon/dspy/issues{/number}', 'pulls_url': 'https://api.github.com/repos/harrysalmon/dspy/pulls{/number}', 'milestones_url': 'https://api.github.com/repos/harrysalmon/dspy/milestones{/number}', 'notifications_url': 'https://api.github.com/repos/harrysalmon/dspy/notifications{?since,all,participating}', 'labels_url': 'https://api.github.com/repos/harrysalmon/dspy/labels{/name}', 'releases_url': 'https://api.github.com/repos/harrysalmon/dspy/releases{/id}', 'deployments_url': 'https://api.github.com/repos/harrysalmon/dspy/deployments', 'created_at': '2024-03-28T17:03:03Z', 'updated_at': '2024-03-28T17:03:03Z', 'pushed_at': '2024-03-28T19:37:37Z', 'git_url': 'git://github.com/harrysalmon/dspy.git', 'ssh_url': 'git@github.com:harrysalmon/dspy.git', 'clone_url': 'https://github.com/harrysalmon/dspy.git', 'svn_url': 'https://github.com/harrysalmon/dspy', 'homepage': 'https://dspy-docs.vercel.app/', 'size': 24206, 'stargazers_count': 0, 'watchers_count': 0, 'language': None, 'has_issues': False, 'has_projects': True, 'has_downloads': True, 'has_wiki': True, 'has_pages': False, 'has_discussions': False, 'forks_count': 0, 'mirror_url': None, 'archived': False, 'disabled': False, 'open_issues_count': 0, 'license': {'key': 'mit', 'name': 'MIT License', 'spdx_id': 'MIT', 'url': 'https://api.github.com/licenses/mit', 'node_id': 'MDc6TGljZW5zZTEz'}, 'allow_forking': True, 'is_template': False, 'web_commit_signoff_required': False, 'topics': [], 'visibility': 'public', 'forks': 0, 'open_issues': 0, 'watchers': 0, 'default_branch': 'main'}}, 'base': {'label': 'stanfordnlp:main', 'ref': 'main', 'sha': 'fb52b19e342bc542c204c480c334cc8758df29de', 'user': {'login': 'stanfordnlp', 'id': 3046006, 'node_id': 'MDEyOk9yZ2FuaXphdGlvbjMwNDYwMDY=', 'avatar_url': 'https://avatars.githubusercontent.com/u/3046006?v=4', 'gravatar_id': '', 'url': 'https://api.github.com/users/stanfordnlp', 'html_url': 'https://github.com/stanfordnlp', 'followers_url': 'https://api.github.com/users/stanfordnlp/followers', 'following_url': 'https://api.github.com/users/stanfordnlp/following{/other_user}', 'gists_url': 'https://api.github.com/users/stanfordnlp/gists{/gist_id}', 'starred_url': 'https://api.github.com/users/stanfordnlp/starred{/owner}{/repo}', 'subscriptions_url': 'https://api.github.com/users/stanfordnlp/subscriptions', 'organizations_url': 'https://api.github.com/users/stanfordnlp/orgs', 'repos_url': 'https://api.github.com/users/stanfordnlp/repos', 'events_url': 'https://api.github.com/users/stanfordnlp/events{/privacy}', 'received_events_url': 'https://api.github.com/users/stanfordnlp/received_events', 'type': 'Organization', 'site_admin': False}, 'repo': {'id': 587050620, 'node_id': 'R_kgDOIv2ufA', 'name': 'dspy', 'full_name': 'stanfordnlp/dspy', 'private': False, 'owner': {'login': 'stanfordnlp', 'id': 3046006, 'node_id': 'MDEyOk9yZ2FuaXphdGlvbjMwNDYwMDY=', 'avatar_url': 'https://avatars.githubusercontent.com/u/3046006?v=4', 'gravatar_id': '', 'url': 'https://api.github.com/users/stanfordnlp', 'html_url': 'https://github.com/stanfordnlp', 'followers_url': 'https://api.github.com/users/stanfordnlp/followers', 'following_url': 'https://api.github.com/users/stanfordnlp/following{/other_user}', 'gists_url': 'https://api.github.com/users/stanfordnlp/gists{/gist_id}', 'starred_url': 'https://api.github.com/users/stanfordnlp/starred{/owner}{/repo}', 'subscriptions_url': 'https://api.github.com/users/stanfordnlp/subscriptions', 'organizations_url': 'https://api.github.com/users/stanfordnlp/orgs', 'repos_url': 'https://api.github.com/users/stanfordnlp/repos', 'events_url': 'https://api.github.com/users/stanfordnlp/events{/privacy}', 'received_events_url': 'https://api.github.com/users/stanfordnlp/received_events', 'type': 'Organization', 'site_admin': False}, 'html_url': 'https://github.com/stanfordnlp/dspy', 'description': 'DSPy: The framework for programming—not prompting—foundation models', 'fork': False, 'url': 'https://api.github.com/repos/stanfordnlp/dspy', 'forks_url': 'https://api.github.com/repos/stanfordnlp/dspy/forks', 'keys_url': 'https://api.github.com/repos/stanfordnlp/dspy/keys{/key_id}', 'collaborators_url': 'https://api.github.com/repos/stanfordnlp/dspy/collaborators{/collaborator}', 'teams_url': 'https://api.github.com/repos/stanfordnlp/dspy/teams', 'hooks_url': 'https://api.github.com/repos/stanfordnlp/dspy/hooks', 'issue_events_url': 'https://api.github.com/repos/stanfordnlp/dspy/issues/events{/number}', 'events_url': 'https://api.github.com/repos/stanfordnlp/dspy/events', 'assignees_url': 'https://api.github.com/repos/stanfordnlp/dspy/assignees{/user}', 'branches_url': 'https://api.github.com/repos/stanfordnlp/dspy/branches{/branch}', 'tags_url': 'https://api.github.com/repos/stanfordnlp/dspy/tags', 'blobs_url': 'https://api.github.com/repos/stanfordnlp/dspy/git/blobs{/sha}', 'git_tags_url': 'https://api.github.com/repos/stanfordnlp/dspy/git/tags{/sha}', 'git_refs_url': 'https://api.github.com/repos/stanfordnlp/dspy/git/refs{/sha}', 'trees_url': 'https://api.github.com/repos/stanfordnlp/dspy/git/trees{/sha}', 'statuses_url': 'https://api.github.com/repos/stanfordnlp/dspy/statuses/{sha}', 'languages_url': 'https://api.github.com/repos/stanfordnlp/dspy/languages', 'stargazers_url': 'https://api.github.com/repos/stanfordnlp/dspy/stargazers', 'contributors_url': 'https://api.github.com/repos/stanfordnlp/dspy/contributors', 'subscribers_url': 'https://api.github.com/repos/stanfordnlp/dspy/subscribers', 'subscription_url': 'https://api.github.com/repos/stanfordnlp/dspy/subscription', 'commits_url': 'https://api.github.com/repos/stanfordnlp/dspy/commits{/sha}', 'git_commits_url': 'https://api.github.com/repos/stanfordnlp/dspy/git/commits{/sha}', 'comments_url': 'https://api.github.com/repos/stanfordnlp/dspy/comments{/number}', 'issue_comment_url': 'https://api.github.com/repos/stanfordnlp/dspy/issues/comments{/number}', 'contents_url': 'https://api.github.com/repos/stanfordnlp/dspy/contents/{+path}', 'compare_url': 'https://api.github.com/repos/stanfordnlp/dspy/compare/{base}...{head}', 'merges_url': 'https://api.github.com/repos/stanfordnlp/dspy/merges', 'archive_url': 'https://api.github.com/repos/stanfordnlp/dspy/{archive_format}{/ref}', 'downloads_url': 'https://api.github.com/repos/stanfordnlp/dspy/downloads', 'issues_url': 'https://api.github.com/repos/stanfordnlp/dspy/issues{/number}', 'pulls_url': 'https://api.github.com/repos/stanfordnlp/dspy/pulls{/number}', 'milestones_url': 'https://api.github.com/repos/stanfordnlp/dspy/milestones{/number}', 'notifications_url': 'https://api.github.com/repos/stanfordnlp/dspy/notifications{?since,all,participating}', 'labels_url': 'https://api.github.com/repos/stanfordnlp/dspy/labels{/name}', 'releases_url': 'https://api.github.com/repos/stanfordnlp/dspy/releases{/id}', 'deployments_url': 'https://api.github.com/repos/stanfordnlp/dspy/deployments', 'created_at': '2023-01-09T21:01:51Z', 'updated_at': '2024-03-28T19:12:05Z', 'pushed_at': '2024-03-28T19:38:49Z', 'git_url': 'git://github.com/stanfordnlp/dspy.git', 'ssh_url': 'git@github.com:stanfordnlp/dspy.git', 'clone_url': 'https://github.com/stanfordnlp/dspy.git', 'svn_url': 'https://github.com/stanfordnlp/dspy', 'homepage': 'https://dspy-docs.vercel.app/', 'size': 27244, 'stargazers_count': 8907, 'watchers_count': 8907, 'language': 'Python', 'has_issues': True, 'has_projects': True, 'has_downloads': True, 'has_wiki': True, 'has_pages': False, 'has_discussions': True, 'forks_count': 634, 'mirror_url': None, 'archived': False, 'disabled': False, 'open_issues_count': 186, 'license': {'key': 'mit', 'name': 'MIT License', 'spdx_id': 'MIT', 'url': 'https://api.github.com/licenses/mit', 'node_id': 'MDc6TGljZW5zZTEz'}, 'allow_forking': True, 'is_template': False, 'web_commit_signoff_required': False, 'topics': [], 'visibility': 'public', 'forks': 634, 'open_issues': 186, 'watchers': 8907, 'default_branch': 'main'}}, '_links': {'self': {'href': 'https://api.github.com/repos/stanfordnlp/dspy/pulls/734'}, 'html': {'href': 'https://github.com/stanfordnlp/dspy/pull/734'}, 'issue': {'href': 'https://api.github.com/repos/stanfordnlp/dspy/issues/734'}, 'comments': {'href': 'https://api.github.com/repos/stanfordnlp/dspy/issues/734/comments'}, 'review_comments': {'href': 'https://api.github.com/repos/stanfordnlp/dspy/pulls/734/comments'}, 'review_comment': {'href': 'https://api.github.com/repos/stanfordnlp/dspy/pulls/comments{/number}'}, 'commits': {'href': 'https://api.github.com/repos/stanfordnlp/dspy/pulls/734/commits'}, 'statuses': {'href': 'https://api.github.com/repos/stanfordnlp/dspy/statuses/da899228202475936b35dd311e1385487bb68f26'}}, 'author_association': 'NONE', 'auto_merge': None, 'active_lock_reason': None}}\""
      ]
     },
     "execution_count": 58,
     "metadata": {},
     "output_type": "execute_result"
    }
   ],
   "source": [
    "events_df[events_df.type==\"PullRequestReviewEvent\"].iloc[0].payload"
   ]
  },
  {
   "cell_type": "code",
   "execution_count": 61,
   "metadata": {},
   "outputs": [
    {
     "data": {
      "text/html": [
       "<div>\n",
       "<style scoped>\n",
       "    .dataframe tbody tr th:only-of-type {\n",
       "        vertical-align: middle;\n",
       "    }\n",
       "\n",
       "    .dataframe tbody tr th {\n",
       "        vertical-align: top;\n",
       "    }\n",
       "\n",
       "    .dataframe thead th {\n",
       "        text-align: right;\n",
       "    }\n",
       "</style>\n",
       "<table border=\"1\" class=\"dataframe\">\n",
       "  <thead>\n",
       "    <tr style=\"text-align: right;\">\n",
       "      <th></th>\n",
       "      <th>id</th>\n",
       "      <th>type</th>\n",
       "      <th>actor</th>\n",
       "      <th>repo</th>\n",
       "      <th>payload</th>\n",
       "      <th>public</th>\n",
       "      <th>created_at</th>\n",
       "      <th>org</th>\n",
       "    </tr>\n",
       "  </thead>\n",
       "  <tbody>\n",
       "    <tr>\n",
       "      <th>91</th>\n",
       "      <td>36979658631</td>\n",
       "      <td>PullRequestReviewEvent</td>\n",
       "      <td>{'id': 8916657, 'login': 'harrysalmon', 'displ...</td>\n",
       "      <td>{'id': 587050620, 'name': 'stanfordnlp/dspy', ...</td>\n",
       "      <td>{'action': 'created', 'review': {'id': 1967123...</td>\n",
       "      <td>True</td>\n",
       "      <td>2024-03-28T19:43:35Z</td>\n",
       "      <td>{'id': 3046006, 'login': 'stanfordnlp', 'grava...</td>\n",
       "    </tr>\n",
       "    <tr>\n",
       "      <th>94</th>\n",
       "      <td>36979297100</td>\n",
       "      <td>PullRequestReviewEvent</td>\n",
       "      <td>{'id': 18212928, 'login': 'Josephrp', 'display...</td>\n",
       "      <td>{'id': 587050620, 'name': 'stanfordnlp/dspy', ...</td>\n",
       "      <td>{'action': 'created', 'review': {'id': 1967091...</td>\n",
       "      <td>True</td>\n",
       "      <td>2024-03-28T19:29:48Z</td>\n",
       "      <td>{'id': 3046006, 'login': 'stanfordnlp', 'grava...</td>\n",
       "    </tr>\n",
       "    <tr>\n",
       "      <th>102</th>\n",
       "      <td>36978209253</td>\n",
       "      <td>PullRequestReviewEvent</td>\n",
       "      <td>{'id': 22121886, 'login': 'KCaverly', 'display...</td>\n",
       "      <td>{'id': 587050620, 'name': 'stanfordnlp/dspy', ...</td>\n",
       "      <td>{'action': 'created', 'review': {'id': 1967017...</td>\n",
       "      <td>True</td>\n",
       "      <td>2024-03-28T18:47:35Z</td>\n",
       "      <td>{'id': 3046006, 'login': 'stanfordnlp', 'grava...</td>\n",
       "    </tr>\n",
       "    <tr>\n",
       "      <th>106</th>\n",
       "      <td>36977926724</td>\n",
       "      <td>PullRequestReviewEvent</td>\n",
       "      <td>{'id': 946355, 'login': 'thomasahle', 'display...</td>\n",
       "      <td>{'id': 587050620, 'name': 'stanfordnlp/dspy', ...</td>\n",
       "      <td>{'action': 'created', 'review': {'id': 1966984...</td>\n",
       "      <td>True</td>\n",
       "      <td>2024-03-28T18:37:02Z</td>\n",
       "      <td>{'id': 3046006, 'login': 'stanfordnlp', 'grava...</td>\n",
       "    </tr>\n",
       "    <tr>\n",
       "      <th>108</th>\n",
       "      <td>36977865845</td>\n",
       "      <td>PullRequestReviewEvent</td>\n",
       "      <td>{'id': 946355, 'login': 'thomasahle', 'display...</td>\n",
       "      <td>{'id': 587050620, 'name': 'stanfordnlp/dspy', ...</td>\n",
       "      <td>{'action': 'created', 'review': {'id': 1966979...</td>\n",
       "      <td>True</td>\n",
       "      <td>2024-03-28T18:34:38Z</td>\n",
       "      <td>{'id': 3046006, 'login': 'stanfordnlp', 'grava...</td>\n",
       "    </tr>\n",
       "    <tr>\n",
       "      <th>228</th>\n",
       "      <td>36938618174</td>\n",
       "      <td>PullRequestReviewEvent</td>\n",
       "      <td>{'id': 22121886, 'login': 'KCaverly', 'display...</td>\n",
       "      <td>{'id': 587050620, 'name': 'stanfordnlp/dspy', ...</td>\n",
       "      <td>{'action': 'created', 'review': {'id': 1963910...</td>\n",
       "      <td>True</td>\n",
       "      <td>2024-03-27T16:44:47Z</td>\n",
       "      <td>{'id': 3046006, 'login': 'stanfordnlp', 'grava...</td>\n",
       "    </tr>\n",
       "    <tr>\n",
       "      <th>231</th>\n",
       "      <td>36937899941</td>\n",
       "      <td>PullRequestReviewEvent</td>\n",
       "      <td>{'id': 152447349, 'login': 'thomasnormal', 'di...</td>\n",
       "      <td>{'id': 587050620, 'name': 'stanfordnlp/dspy', ...</td>\n",
       "      <td>{'action': 'created', 'review': {'id': 1963856...</td>\n",
       "      <td>True</td>\n",
       "      <td>2024-03-27T16:25:44Z</td>\n",
       "      <td>{'id': 3046006, 'login': 'stanfordnlp', 'grava...</td>\n",
       "    </tr>\n",
       "    <tr>\n",
       "      <th>233</th>\n",
       "      <td>36937731259</td>\n",
       "      <td>PullRequestReviewEvent</td>\n",
       "      <td>{'id': 152447349, 'login': 'thomasnormal', 'di...</td>\n",
       "      <td>{'id': 587050620, 'name': 'stanfordnlp/dspy', ...</td>\n",
       "      <td>{'action': 'created', 'review': {'id': 1963846...</td>\n",
       "      <td>True</td>\n",
       "      <td>2024-03-27T16:21:10Z</td>\n",
       "      <td>{'id': 3046006, 'login': 'stanfordnlp', 'grava...</td>\n",
       "    </tr>\n",
       "  </tbody>\n",
       "</table>\n",
       "</div>"
      ],
      "text/plain": [
       "              id                    type  \\\n",
       "91   36979658631  PullRequestReviewEvent   \n",
       "94   36979297100  PullRequestReviewEvent   \n",
       "102  36978209253  PullRequestReviewEvent   \n",
       "106  36977926724  PullRequestReviewEvent   \n",
       "108  36977865845  PullRequestReviewEvent   \n",
       "228  36938618174  PullRequestReviewEvent   \n",
       "231  36937899941  PullRequestReviewEvent   \n",
       "233  36937731259  PullRequestReviewEvent   \n",
       "\n",
       "                                                 actor  \\\n",
       "91   {'id': 8916657, 'login': 'harrysalmon', 'displ...   \n",
       "94   {'id': 18212928, 'login': 'Josephrp', 'display...   \n",
       "102  {'id': 22121886, 'login': 'KCaverly', 'display...   \n",
       "106  {'id': 946355, 'login': 'thomasahle', 'display...   \n",
       "108  {'id': 946355, 'login': 'thomasahle', 'display...   \n",
       "228  {'id': 22121886, 'login': 'KCaverly', 'display...   \n",
       "231  {'id': 152447349, 'login': 'thomasnormal', 'di...   \n",
       "233  {'id': 152447349, 'login': 'thomasnormal', 'di...   \n",
       "\n",
       "                                                  repo  \\\n",
       "91   {'id': 587050620, 'name': 'stanfordnlp/dspy', ...   \n",
       "94   {'id': 587050620, 'name': 'stanfordnlp/dspy', ...   \n",
       "102  {'id': 587050620, 'name': 'stanfordnlp/dspy', ...   \n",
       "106  {'id': 587050620, 'name': 'stanfordnlp/dspy', ...   \n",
       "108  {'id': 587050620, 'name': 'stanfordnlp/dspy', ...   \n",
       "228  {'id': 587050620, 'name': 'stanfordnlp/dspy', ...   \n",
       "231  {'id': 587050620, 'name': 'stanfordnlp/dspy', ...   \n",
       "233  {'id': 587050620, 'name': 'stanfordnlp/dspy', ...   \n",
       "\n",
       "                                               payload  public  \\\n",
       "91   {'action': 'created', 'review': {'id': 1967123...    True   \n",
       "94   {'action': 'created', 'review': {'id': 1967091...    True   \n",
       "102  {'action': 'created', 'review': {'id': 1967017...    True   \n",
       "106  {'action': 'created', 'review': {'id': 1966984...    True   \n",
       "108  {'action': 'created', 'review': {'id': 1966979...    True   \n",
       "228  {'action': 'created', 'review': {'id': 1963910...    True   \n",
       "231  {'action': 'created', 'review': {'id': 1963856...    True   \n",
       "233  {'action': 'created', 'review': {'id': 1963846...    True   \n",
       "\n",
       "               created_at                                                org  \n",
       "91   2024-03-28T19:43:35Z  {'id': 3046006, 'login': 'stanfordnlp', 'grava...  \n",
       "94   2024-03-28T19:29:48Z  {'id': 3046006, 'login': 'stanfordnlp', 'grava...  \n",
       "102  2024-03-28T18:47:35Z  {'id': 3046006, 'login': 'stanfordnlp', 'grava...  \n",
       "106  2024-03-28T18:37:02Z  {'id': 3046006, 'login': 'stanfordnlp', 'grava...  \n",
       "108  2024-03-28T18:34:38Z  {'id': 3046006, 'login': 'stanfordnlp', 'grava...  \n",
       "228  2024-03-27T16:44:47Z  {'id': 3046006, 'login': 'stanfordnlp', 'grava...  \n",
       "231  2024-03-27T16:25:44Z  {'id': 3046006, 'login': 'stanfordnlp', 'grava...  \n",
       "233  2024-03-27T16:21:10Z  {'id': 3046006, 'login': 'stanfordnlp', 'grava...  "
      ]
     },
     "execution_count": 61,
     "metadata": {},
     "output_type": "execute_result"
    }
   ],
   "source": [
    "events_df[events_df.type==\"PullRequestReviewEvent\"]"
   ]
  },
  {
   "cell_type": "markdown",
   "metadata": {},
   "source": [
    "### Issue columns\n",
    "Index(['url', 'repository_url', 'labels_url', 'comments_url', 'events_url',\n",
    "       'html_url', 'id', 'node_id', 'number', 'title', 'user', 'labels',\n",
    "       'state', 'locked', 'assignee', 'assignees', 'milestone', 'comments',\n",
    "       'created_at', 'updated_at', 'closed_at', 'author_association',\n",
    "       'active_lock_reason', 'draft', 'pull_request', 'body', 'reactions',\n",
    "       'timeline_url', 'performed_via_github_app', 'state_reason'],\n",
    "      dtype='object')\n",
    "### Pull request columns\n",
    "Index(['url', 'id', 'node_id', 'html_url', 'diff_url', 'patch_url',\n",
    "       'issue_url', 'number', 'state', 'locked', 'title', 'user', 'body',\n",
    "       'created_at', 'updated_at', 'closed_at', 'merged_at',\n",
    "       'merge_commit_sha', 'assignee', 'assignees', 'requested_reviewers',\n",
    "       'requested_teams', 'labels', 'milestone', 'draft', 'commits_url',\n",
    "       'review_comments_url', 'review_comment_url', 'comments_url',\n",
    "       'statuses_url', 'head', 'base', '_links', 'author_association',\n",
    "       'auto_merge', 'active_lock_reason'],\n",
    "      dtype='object')\n"
   ]
  },
  {
   "cell_type": "code",
   "execution_count": 38,
   "metadata": {},
   "outputs": [
    {
     "data": {
      "text/plain": [
       "'https://api.github.com/repos/stanfordnlp/dspy/pulls/comments{/number}'"
      ]
     },
     "execution_count": 38,
     "metadata": {},
     "output_type": "execute_result"
    }
   ],
   "source": [
    "pulls_df[\"review_comment_url\"].iloc[0]"
   ]
  },
  {
   "cell_type": "code",
   "execution_count": 23,
   "metadata": {},
   "outputs": [],
   "source": [
    "iterations_df = pd.DataFrame(columns=[\"Type\", \"Related url\",\"planned/unplanned\", \"Cause\", \"Body\", \"Start Time\", \"End Time\", \"Duration\"])"
   ]
  },
  {
   "cell_type": "code",
   "execution_count": null,
   "metadata": {},
   "outputs": [],
   "source": [
    "for index, issue in issues_df.iterrows():\n",
    "    related_url = issue.html_url\n",
    "    body = issue.title + issue.body\n",
    "    isplanned = \"unplanned\"\n",
    "    start_at = issue.created_at  \n",
    "    end_at = issue.closed_at\n",
    "    duration = pd.Timestamp(end_at) - pd.Timestamp(start_at)\n",
    "    if pd.isna(issue.pull_request):\n",
    "        type = \"Bug\"\n",
    "    else:\n",
    "        if pd.notna(issue.milestone) or pd.notna(issue.assignee):\n",
    "            isplanned = \"planned\"\n",
    "        number = issue.number"
   ]
  }
 ],
 "metadata": {
  "kernelspec": {
   "display_name": "Python 3",
   "language": "python",
   "name": "python3"
  },
  "language_info": {
   "codemirror_mode": {
    "name": "ipython",
    "version": 3
   },
   "file_extension": ".py",
   "mimetype": "text/x-python",
   "name": "python",
   "nbconvert_exporter": "python",
   "pygments_lexer": "ipython3",
   "version": "3.11.2"
  }
 },
 "nbformat": 4,
 "nbformat_minor": 2
}
