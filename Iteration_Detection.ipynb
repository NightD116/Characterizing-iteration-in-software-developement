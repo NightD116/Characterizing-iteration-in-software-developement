{
 "cells": [
  {
   "cell_type": "markdown",
   "metadata": {},
   "source": [
    "Define needed libraries\n",
    "- pandas:"
   ]
  },
  {
   "cell_type": "code",
   "execution_count": 1,
   "metadata": {},
   "outputs": [],
   "source": [
    "import pandas as pd"
   ]
  },
  {
   "cell_type": "code",
   "execution_count": 5,
   "metadata": {},
   "outputs": [
    {
     "data": {
      "text/html": [
       "<div>\n",
       "<style scoped>\n",
       "    .dataframe tbody tr th:only-of-type {\n",
       "        vertical-align: middle;\n",
       "    }\n",
       "\n",
       "    .dataframe tbody tr th {\n",
       "        vertical-align: top;\n",
       "    }\n",
       "\n",
       "    .dataframe thead th {\n",
       "        text-align: right;\n",
       "    }\n",
       "</style>\n",
       "<table border=\"1\" class=\"dataframe\">\n",
       "  <thead>\n",
       "    <tr style=\"text-align: right;\">\n",
       "      <th></th>\n",
       "      <th>Unnamed: 0</th>\n",
       "      <th>url</th>\n",
       "      <th>repository_url</th>\n",
       "      <th>labels_url</th>\n",
       "      <th>comments_url</th>\n",
       "      <th>events_url</th>\n",
       "      <th>html_url</th>\n",
       "      <th>id</th>\n",
       "      <th>node_id</th>\n",
       "      <th>number</th>\n",
       "      <th>...</th>\n",
       "      <th>closed_at</th>\n",
       "      <th>author_association</th>\n",
       "      <th>active_lock_reason</th>\n",
       "      <th>draft</th>\n",
       "      <th>pull_request</th>\n",
       "      <th>body</th>\n",
       "      <th>reactions</th>\n",
       "      <th>timeline_url</th>\n",
       "      <th>performed_via_github_app</th>\n",
       "      <th>state_reason</th>\n",
       "    </tr>\n",
       "  </thead>\n",
       "  <tbody>\n",
       "    <tr>\n",
       "      <th>0</th>\n",
       "      <td>0</td>\n",
       "      <td>https://api.github.com/repos/stanfordnlp/dspy/...</td>\n",
       "      <td>https://api.github.com/repos/stanfordnlp/dspy</td>\n",
       "      <td>https://api.github.com/repos/stanfordnlp/dspy/...</td>\n",
       "      <td>https://api.github.com/repos/stanfordnlp/dspy/...</td>\n",
       "      <td>https://api.github.com/repos/stanfordnlp/dspy/...</td>\n",
       "      <td>https://github.com/stanfordnlp/dspy/pull/731</td>\n",
       "      <td>2213863584</td>\n",
       "      <td>PR_kwDOIv2ufM5rFpZ3</td>\n",
       "      <td>731</td>\n",
       "      <td>...</td>\n",
       "      <td>2024-03-28T18:34:24Z</td>\n",
       "      <td>NONE</td>\n",
       "      <td>NaN</td>\n",
       "      <td>True</td>\n",
       "      <td>{'url': 'https://api.github.com/repos/stanford...</td>\n",
       "      <td>Fixes #728 \\r\\n\\r\\n-[ ] Squash commits, obey c...</td>\n",
       "      <td>{'url': 'https://api.github.com/repos/stanford...</td>\n",
       "      <td>https://api.github.com/repos/stanfordnlp/dspy/...</td>\n",
       "      <td>NaN</td>\n",
       "      <td>NaN</td>\n",
       "    </tr>\n",
       "    <tr>\n",
       "      <th>1</th>\n",
       "      <td>1</td>\n",
       "      <td>https://api.github.com/repos/stanfordnlp/dspy/...</td>\n",
       "      <td>https://api.github.com/repos/stanfordnlp/dspy</td>\n",
       "      <td>https://api.github.com/repos/stanfordnlp/dspy/...</td>\n",
       "      <td>https://api.github.com/repos/stanfordnlp/dspy/...</td>\n",
       "      <td>https://api.github.com/repos/stanfordnlp/dspy/...</td>\n",
       "      <td>https://github.com/stanfordnlp/dspy/pull/727</td>\n",
       "      <td>2212499670</td>\n",
       "      <td>PR_kwDOIv2ufM5rA-MK</td>\n",
       "      <td>727</td>\n",
       "      <td>...</td>\n",
       "      <td>2024-03-28T07:03:00Z</td>\n",
       "      <td>CONTRIBUTOR</td>\n",
       "      <td>NaN</td>\n",
       "      <td>False</td>\n",
       "      <td>{'url': 'https://api.github.com/repos/stanford...</td>\n",
       "      <td>NaN</td>\n",
       "      <td>{'url': 'https://api.github.com/repos/stanford...</td>\n",
       "      <td>https://api.github.com/repos/stanfordnlp/dspy/...</td>\n",
       "      <td>NaN</td>\n",
       "      <td>NaN</td>\n",
       "    </tr>\n",
       "    <tr>\n",
       "      <th>2</th>\n",
       "      <td>2</td>\n",
       "      <td>https://api.github.com/repos/stanfordnlp/dspy/...</td>\n",
       "      <td>https://api.github.com/repos/stanfordnlp/dspy</td>\n",
       "      <td>https://api.github.com/repos/stanfordnlp/dspy/...</td>\n",
       "      <td>https://api.github.com/repos/stanfordnlp/dspy/...</td>\n",
       "      <td>https://api.github.com/repos/stanfordnlp/dspy/...</td>\n",
       "      <td>https://github.com/stanfordnlp/dspy/pull/716</td>\n",
       "      <td>2206781646</td>\n",
       "      <td>PR_kwDOIv2ufM5qtol2</td>\n",
       "      <td>716</td>\n",
       "      <td>...</td>\n",
       "      <td>2024-03-27T14:23:18Z</td>\n",
       "      <td>COLLABORATOR</td>\n",
       "      <td>NaN</td>\n",
       "      <td>False</td>\n",
       "      <td>{'url': 'https://api.github.com/repos/stanford...</td>\n",
       "      <td>Cohere has deprecated the /generate API in fav...</td>\n",
       "      <td>{'url': 'https://api.github.com/repos/stanford...</td>\n",
       "      <td>https://api.github.com/repos/stanfordnlp/dspy/...</td>\n",
       "      <td>NaN</td>\n",
       "      <td>NaN</td>\n",
       "    </tr>\n",
       "    <tr>\n",
       "      <th>3</th>\n",
       "      <td>3</td>\n",
       "      <td>https://api.github.com/repos/stanfordnlp/dspy/...</td>\n",
       "      <td>https://api.github.com/repos/stanfordnlp/dspy</td>\n",
       "      <td>https://api.github.com/repos/stanfordnlp/dspy/...</td>\n",
       "      <td>https://api.github.com/repos/stanfordnlp/dspy/...</td>\n",
       "      <td>https://api.github.com/repos/stanfordnlp/dspy/...</td>\n",
       "      <td>https://github.com/stanfordnlp/dspy/issues/715</td>\n",
       "      <td>2206761080</td>\n",
       "      <td>I_kwDOIv2ufM6DiIB4</td>\n",
       "      <td>715</td>\n",
       "      <td>...</td>\n",
       "      <td>2024-03-25T22:31:19Z</td>\n",
       "      <td>COLLABORATOR</td>\n",
       "      <td>NaN</td>\n",
       "      <td>NaN</td>\n",
       "      <td>NaN</td>\n",
       "      <td>Consider these three programs:\\r\\n\\r\\n**Progra...</td>\n",
       "      <td>{'url': 'https://api.github.com/repos/stanford...</td>\n",
       "      <td>https://api.github.com/repos/stanfordnlp/dspy/...</td>\n",
       "      <td>NaN</td>\n",
       "      <td>completed</td>\n",
       "    </tr>\n",
       "    <tr>\n",
       "      <th>4</th>\n",
       "      <td>4</td>\n",
       "      <td>https://api.github.com/repos/stanfordnlp/dspy/...</td>\n",
       "      <td>https://api.github.com/repos/stanfordnlp/dspy</td>\n",
       "      <td>https://api.github.com/repos/stanfordnlp/dspy/...</td>\n",
       "      <td>https://api.github.com/repos/stanfordnlp/dspy/...</td>\n",
       "      <td>https://api.github.com/repos/stanfordnlp/dspy/...</td>\n",
       "      <td>https://github.com/stanfordnlp/dspy/pull/714</td>\n",
       "      <td>2206709999</td>\n",
       "      <td>PR_kwDOIv2ufM5qtY5U</td>\n",
       "      <td>714</td>\n",
       "      <td>...</td>\n",
       "      <td>2024-03-26T16:22:27Z</td>\n",
       "      <td>CONTRIBUTOR</td>\n",
       "      <td>NaN</td>\n",
       "      <td>False</td>\n",
       "      <td>{'url': 'https://api.github.com/repos/stanford...</td>\n",
       "      <td>NaN</td>\n",
       "      <td>{'url': 'https://api.github.com/repos/stanford...</td>\n",
       "      <td>https://api.github.com/repos/stanfordnlp/dspy/...</td>\n",
       "      <td>NaN</td>\n",
       "      <td>NaN</td>\n",
       "    </tr>\n",
       "  </tbody>\n",
       "</table>\n",
       "<p>5 rows × 31 columns</p>\n",
       "</div>"
      ],
      "text/plain": [
       "   Unnamed: 0                                                url  \\\n",
       "0           0  https://api.github.com/repos/stanfordnlp/dspy/...   \n",
       "1           1  https://api.github.com/repos/stanfordnlp/dspy/...   \n",
       "2           2  https://api.github.com/repos/stanfordnlp/dspy/...   \n",
       "3           3  https://api.github.com/repos/stanfordnlp/dspy/...   \n",
       "4           4  https://api.github.com/repos/stanfordnlp/dspy/...   \n",
       "\n",
       "                                  repository_url  \\\n",
       "0  https://api.github.com/repos/stanfordnlp/dspy   \n",
       "1  https://api.github.com/repos/stanfordnlp/dspy   \n",
       "2  https://api.github.com/repos/stanfordnlp/dspy   \n",
       "3  https://api.github.com/repos/stanfordnlp/dspy   \n",
       "4  https://api.github.com/repos/stanfordnlp/dspy   \n",
       "\n",
       "                                          labels_url  \\\n",
       "0  https://api.github.com/repos/stanfordnlp/dspy/...   \n",
       "1  https://api.github.com/repos/stanfordnlp/dspy/...   \n",
       "2  https://api.github.com/repos/stanfordnlp/dspy/...   \n",
       "3  https://api.github.com/repos/stanfordnlp/dspy/...   \n",
       "4  https://api.github.com/repos/stanfordnlp/dspy/...   \n",
       "\n",
       "                                        comments_url  \\\n",
       "0  https://api.github.com/repos/stanfordnlp/dspy/...   \n",
       "1  https://api.github.com/repos/stanfordnlp/dspy/...   \n",
       "2  https://api.github.com/repos/stanfordnlp/dspy/...   \n",
       "3  https://api.github.com/repos/stanfordnlp/dspy/...   \n",
       "4  https://api.github.com/repos/stanfordnlp/dspy/...   \n",
       "\n",
       "                                          events_url  \\\n",
       "0  https://api.github.com/repos/stanfordnlp/dspy/...   \n",
       "1  https://api.github.com/repos/stanfordnlp/dspy/...   \n",
       "2  https://api.github.com/repos/stanfordnlp/dspy/...   \n",
       "3  https://api.github.com/repos/stanfordnlp/dspy/...   \n",
       "4  https://api.github.com/repos/stanfordnlp/dspy/...   \n",
       "\n",
       "                                         html_url          id  \\\n",
       "0    https://github.com/stanfordnlp/dspy/pull/731  2213863584   \n",
       "1    https://github.com/stanfordnlp/dspy/pull/727  2212499670   \n",
       "2    https://github.com/stanfordnlp/dspy/pull/716  2206781646   \n",
       "3  https://github.com/stanfordnlp/dspy/issues/715  2206761080   \n",
       "4    https://github.com/stanfordnlp/dspy/pull/714  2206709999   \n",
       "\n",
       "               node_id  number  ...             closed_at author_association  \\\n",
       "0  PR_kwDOIv2ufM5rFpZ3     731  ...  2024-03-28T18:34:24Z               NONE   \n",
       "1  PR_kwDOIv2ufM5rA-MK     727  ...  2024-03-28T07:03:00Z        CONTRIBUTOR   \n",
       "2  PR_kwDOIv2ufM5qtol2     716  ...  2024-03-27T14:23:18Z       COLLABORATOR   \n",
       "3   I_kwDOIv2ufM6DiIB4     715  ...  2024-03-25T22:31:19Z       COLLABORATOR   \n",
       "4  PR_kwDOIv2ufM5qtY5U     714  ...  2024-03-26T16:22:27Z        CONTRIBUTOR   \n",
       "\n",
       "  active_lock_reason  draft  \\\n",
       "0                NaN   True   \n",
       "1                NaN  False   \n",
       "2                NaN  False   \n",
       "3                NaN    NaN   \n",
       "4                NaN  False   \n",
       "\n",
       "                                        pull_request  \\\n",
       "0  {'url': 'https://api.github.com/repos/stanford...   \n",
       "1  {'url': 'https://api.github.com/repos/stanford...   \n",
       "2  {'url': 'https://api.github.com/repos/stanford...   \n",
       "3                                                NaN   \n",
       "4  {'url': 'https://api.github.com/repos/stanford...   \n",
       "\n",
       "                                                body  \\\n",
       "0  Fixes #728 \\r\\n\\r\\n-[ ] Squash commits, obey c...   \n",
       "1                                                NaN   \n",
       "2  Cohere has deprecated the /generate API in fav...   \n",
       "3  Consider these three programs:\\r\\n\\r\\n**Progra...   \n",
       "4                                                NaN   \n",
       "\n",
       "                                           reactions  \\\n",
       "0  {'url': 'https://api.github.com/repos/stanford...   \n",
       "1  {'url': 'https://api.github.com/repos/stanford...   \n",
       "2  {'url': 'https://api.github.com/repos/stanford...   \n",
       "3  {'url': 'https://api.github.com/repos/stanford...   \n",
       "4  {'url': 'https://api.github.com/repos/stanford...   \n",
       "\n",
       "                                        timeline_url  \\\n",
       "0  https://api.github.com/repos/stanfordnlp/dspy/...   \n",
       "1  https://api.github.com/repos/stanfordnlp/dspy/...   \n",
       "2  https://api.github.com/repos/stanfordnlp/dspy/...   \n",
       "3  https://api.github.com/repos/stanfordnlp/dspy/...   \n",
       "4  https://api.github.com/repos/stanfordnlp/dspy/...   \n",
       "\n",
       "   performed_via_github_app state_reason  \n",
       "0                       NaN          NaN  \n",
       "1                       NaN          NaN  \n",
       "2                       NaN          NaN  \n",
       "3                       NaN    completed  \n",
       "4                       NaN          NaN  \n",
       "\n",
       "[5 rows x 31 columns]"
      ]
     },
     "execution_count": 5,
     "metadata": {},
     "output_type": "execute_result"
    }
   ],
   "source": [
    "issues_df = pd.read_csv(\"stanfordnlp_dspy_issues_data_raw.csv\")\n",
    "issues_df.head()"
   ]
  },
  {
   "cell_type": "code",
   "execution_count": 6,
   "metadata": {},
   "outputs": [
    {
     "data": {
      "text/plain": [
       "Index(['Unnamed: 0', 'url', 'repository_url', 'labels_url', 'comments_url',\n",
       "       'events_url', 'html_url', 'id', 'node_id', 'number', 'title', 'user',\n",
       "       'labels', 'state', 'locked', 'assignee', 'assignees', 'milestone',\n",
       "       'comments', 'created_at', 'updated_at', 'closed_at',\n",
       "       'author_association', 'active_lock_reason', 'draft', 'pull_request',\n",
       "       'body', 'reactions', 'timeline_url', 'performed_via_github_app',\n",
       "       'state_reason'],\n",
       "      dtype='object')"
      ]
     },
     "execution_count": 6,
     "metadata": {},
     "output_type": "execute_result"
    }
   ],
   "source": [
    "issues_df.columns"
   ]
  },
  {
   "cell_type": "code",
   "execution_count": 7,
   "metadata": {},
   "outputs": [
    {
     "data": {
      "text/plain": [
       "Index(['url', 'repository_url', 'labels_url', 'comments_url', 'events_url',\n",
       "       'html_url', 'id', 'node_id', 'number', 'title', 'user', 'labels',\n",
       "       'state', 'locked', 'assignee', 'assignees', 'milestone', 'comments',\n",
       "       'created_at', 'updated_at', 'closed_at', 'author_association',\n",
       "       'active_lock_reason', 'draft', 'pull_request', 'body', 'reactions',\n",
       "       'timeline_url', 'performed_via_github_app', 'state_reason'],\n",
       "      dtype='object')"
      ]
     },
     "execution_count": 7,
     "metadata": {},
     "output_type": "execute_result"
    }
   ],
   "source": [
    "issues_df.pop(\"Unnamed: 0\")\n",
    "issues_df.columns"
   ]
  },
  {
   "cell_type": "code",
   "execution_count": 10,
   "metadata": {},
   "outputs": [
    {
     "data": {
      "text/plain": [
       "url                         https://api.github.com/repos/stanfordnlp/dspy/...\n",
       "repository_url                  https://api.github.com/repos/stanfordnlp/dspy\n",
       "labels_url                  https://api.github.com/repos/stanfordnlp/dspy/...\n",
       "comments_url                https://api.github.com/repos/stanfordnlp/dspy/...\n",
       "events_url                  https://api.github.com/repos/stanfordnlp/dspy/...\n",
       "html_url                         https://github.com/stanfordnlp/dspy/pull/731\n",
       "id                                                                 2213863584\n",
       "node_id                                                   PR_kwDOIv2ufM5rFpZ3\n",
       "number                                                                    731\n",
       "title                                                    Fix OpenAIVectorizer\n",
       "user                        {'login': 'harrysalmon', 'id': 8916657, 'node_...\n",
       "labels                                                                     []\n",
       "state                                                                  closed\n",
       "locked                                                                  False\n",
       "assignee                                                                  NaN\n",
       "assignees                                                                  []\n",
       "milestone                                                                 NaN\n",
       "comments                                                                    0\n",
       "created_at                                               2024-03-28T18:24:16Z\n",
       "updated_at                                               2024-03-28T18:34:24Z\n",
       "closed_at                                                2024-03-28T18:34:24Z\n",
       "author_association                                                       NONE\n",
       "active_lock_reason                                                        NaN\n",
       "draft                                                                    True\n",
       "pull_request                {'url': 'https://api.github.com/repos/stanford...\n",
       "body                        Fixes #728 \\r\\n\\r\\n-[ ] Squash commits, obey c...\n",
       "reactions                   {'url': 'https://api.github.com/repos/stanford...\n",
       "timeline_url                https://api.github.com/repos/stanfordnlp/dspy/...\n",
       "performed_via_github_app                                                  NaN\n",
       "state_reason                                                              NaN\n",
       "Name: 0, dtype: object"
      ]
     },
     "execution_count": 10,
     "metadata": {},
     "output_type": "execute_result"
    }
   ],
   "source": [
    "issues_df.iloc[0]"
   ]
  },
  {
   "cell_type": "code",
   "execution_count": 12,
   "metadata": {},
   "outputs": [
    {
     "data": {
      "text/plain": [
       "Index(['Unnamed: 0', 'url', 'id', 'node_id', 'html_url', 'diff_url',\n",
       "       'patch_url', 'issue_url', 'number', 'state', 'locked', 'title', 'user',\n",
       "       'body', 'created_at', 'updated_at', 'closed_at', 'merged_at',\n",
       "       'merge_commit_sha', 'assignee', 'assignees', 'requested_reviewers',\n",
       "       'requested_teams', 'labels', 'milestone', 'draft', 'commits_url',\n",
       "       'review_comments_url', 'review_comment_url', 'comments_url',\n",
       "       'statuses_url', 'head', 'base', '_links', 'author_association',\n",
       "       'auto_merge', 'active_lock_reason'],\n",
       "      dtype='object')"
      ]
     },
     "execution_count": 12,
     "metadata": {},
     "output_type": "execute_result"
    }
   ],
   "source": [
    "pulls_df = pd.read_csv(\"stanfordnlp_dspy_pulls_data_raw.csv\")\n",
    "pulls_df.columns"
   ]
  },
  {
   "cell_type": "code",
   "execution_count": 13,
   "metadata": {},
   "outputs": [
    {
     "data": {
      "text/plain": [
       "Index(['url', 'id', 'node_id', 'html_url', 'diff_url', 'patch_url',\n",
       "       'issue_url', 'number', 'state', 'locked', 'title', 'user', 'body',\n",
       "       'created_at', 'updated_at', 'closed_at', 'merged_at',\n",
       "       'merge_commit_sha', 'assignee', 'assignees', 'requested_reviewers',\n",
       "       'requested_teams', 'labels', 'milestone', 'draft', 'commits_url',\n",
       "       'review_comments_url', 'review_comment_url', 'comments_url',\n",
       "       'statuses_url', 'head', 'base', '_links', 'author_association',\n",
       "       'auto_merge', 'active_lock_reason'],\n",
       "      dtype='object')"
      ]
     },
     "execution_count": 13,
     "metadata": {},
     "output_type": "execute_result"
    }
   ],
   "source": [
    "pulls_df.pop(\"Unnamed: 0\")\n",
    "pulls_df.columns"
   ]
  },
  {
   "cell_type": "code",
   "execution_count": 15,
   "metadata": {},
   "outputs": [
    {
     "data": {
      "text/plain": [
       "url                    https://api.github.com/repos/stanfordnlp/dspy/...\n",
       "id                                                            1796642423\n",
       "node_id                                              PR_kwDOIv2ufM5rFpZ3\n",
       "html_url                    https://github.com/stanfordnlp/dspy/pull/731\n",
       "diff_url               https://github.com/stanfordnlp/dspy/pull/731.diff\n",
       "patch_url              https://github.com/stanfordnlp/dspy/pull/731.p...\n",
       "issue_url              https://api.github.com/repos/stanfordnlp/dspy/...\n",
       "number                                                               731\n",
       "state                                                             closed\n",
       "locked                                                             False\n",
       "title                                               Fix OpenAIVectorizer\n",
       "user                   {'login': 'harrysalmon', 'id': 8916657, 'node_...\n",
       "body                   Fixes #728 \\r\\n\\r\\n-[ ] Squash commits, obey c...\n",
       "created_at                                          2024-03-28T18:24:16Z\n",
       "updated_at                                          2024-03-28T18:34:24Z\n",
       "closed_at                                           2024-03-28T18:34:24Z\n",
       "merged_at                                                            NaN\n",
       "merge_commit_sha                b5493371c31e8b1fc4c0be8f323c20aaea738a46\n",
       "assignee                                                             NaN\n",
       "assignees                                                             []\n",
       "requested_reviewers                                                   []\n",
       "requested_teams                                                       []\n",
       "labels                                                                []\n",
       "milestone                                                            NaN\n",
       "draft                                                               True\n",
       "commits_url            https://api.github.com/repos/stanfordnlp/dspy/...\n",
       "review_comments_url    https://api.github.com/repos/stanfordnlp/dspy/...\n",
       "review_comment_url     https://api.github.com/repos/stanfordnlp/dspy/...\n",
       "comments_url           https://api.github.com/repos/stanfordnlp/dspy/...\n",
       "statuses_url           https://api.github.com/repos/stanfordnlp/dspy/...\n",
       "head                   {'label': 'harrysalmon:fix-OpenAIVectorizer', ...\n",
       "base                   {'label': 'stanfordnlp:main', 'ref': 'main', '...\n",
       "_links                 {'self': {'href': 'https://api.github.com/repo...\n",
       "author_association                                                  NONE\n",
       "auto_merge                                                           NaN\n",
       "active_lock_reason                                                   NaN\n",
       "Name: 0, dtype: object"
      ]
     },
     "execution_count": 15,
     "metadata": {},
     "output_type": "execute_result"
    }
   ],
   "source": [
    "pulls_df.iloc[0]"
   ]
  },
  {
   "cell_type": "code",
   "execution_count": 18,
   "metadata": {},
   "outputs": [
    {
     "data": {
      "text/html": [
       "<div>\n",
       "<style scoped>\n",
       "    .dataframe tbody tr th:only-of-type {\n",
       "        vertical-align: middle;\n",
       "    }\n",
       "\n",
       "    .dataframe tbody tr th {\n",
       "        vertical-align: top;\n",
       "    }\n",
       "\n",
       "    .dataframe thead th {\n",
       "        text-align: right;\n",
       "    }\n",
       "</style>\n",
       "<table border=\"1\" class=\"dataframe\">\n",
       "  <thead>\n",
       "    <tr style=\"text-align: right;\">\n",
       "      <th></th>\n",
       "      <th>url</th>\n",
       "      <th>id</th>\n",
       "      <th>node_id</th>\n",
       "      <th>html_url</th>\n",
       "      <th>diff_url</th>\n",
       "      <th>patch_url</th>\n",
       "      <th>issue_url</th>\n",
       "      <th>number</th>\n",
       "      <th>state</th>\n",
       "      <th>locked</th>\n",
       "      <th>...</th>\n",
       "      <th>review_comments_url</th>\n",
       "      <th>review_comment_url</th>\n",
       "      <th>comments_url</th>\n",
       "      <th>statuses_url</th>\n",
       "      <th>head</th>\n",
       "      <th>base</th>\n",
       "      <th>_links</th>\n",
       "      <th>author_association</th>\n",
       "      <th>auto_merge</th>\n",
       "      <th>active_lock_reason</th>\n",
       "    </tr>\n",
       "  </thead>\n",
       "  <tbody>\n",
       "  </tbody>\n",
       "</table>\n",
       "<p>0 rows × 36 columns</p>\n",
       "</div>"
      ],
      "text/plain": [
       "Empty DataFrame\n",
       "Columns: [url, id, node_id, html_url, diff_url, patch_url, issue_url, number, state, locked, title, user, body, created_at, updated_at, closed_at, merged_at, merge_commit_sha, assignee, assignees, requested_reviewers, requested_teams, labels, milestone, draft, commits_url, review_comments_url, review_comment_url, comments_url, statuses_url, head, base, _links, author_association, auto_merge, active_lock_reason]\n",
       "Index: []\n",
       "\n",
       "[0 rows x 36 columns]"
      ]
     },
     "execution_count": 18,
     "metadata": {},
     "output_type": "execute_result"
    }
   ],
   "source": [
    "pulls_df[pulls_df.review_comments_url.isna()]"
   ]
  },
  {
   "cell_type": "code",
   "execution_count": 25,
   "metadata": {},
   "outputs": [
    {
     "data": {
      "text/plain": [
       "Index(['Unnamed: 0', 'id', 'type', 'actor', 'repo', 'payload', 'public',\n",
       "       'created_at', 'org'],\n",
       "      dtype='object')"
      ]
     },
     "execution_count": 25,
     "metadata": {},
     "output_type": "execute_result"
    }
   ],
   "source": [
    "events_df = pd.read_csv(\"stanfordnlp_dspy_events_data_raw.csv\")\n",
    "events_df.columns"
   ]
  },
  {
   "cell_type": "code",
   "execution_count": 27,
   "metadata": {},
   "outputs": [
    {
     "data": {
      "text/plain": [
       "Index(['id', 'type', 'actor', 'repo', 'payload', 'public', 'created_at',\n",
       "       'org'],\n",
       "      dtype='object')"
      ]
     },
     "execution_count": 27,
     "metadata": {},
     "output_type": "execute_result"
    }
   ],
   "source": [
    "events_df.pop(\"Unnamed: 0\")\n",
    "events_df.columns"
   ]
  },
  {
   "cell_type": "code",
   "execution_count": 28,
   "metadata": {},
   "outputs": [
    {
     "data": {
      "text/plain": [
       "id                                                  37006912887\n",
       "type                                                 WatchEvent\n",
       "actor         {'id': 16082810, 'login': 'tonyskidmore', 'dis...\n",
       "repo          {'id': 587050620, 'name': 'stanfordnlp/dspy', ...\n",
       "payload                                   {'action': 'started'}\n",
       "public                                                     True\n",
       "created_at                                 2024-03-29T19:34:32Z\n",
       "org           {'id': 3046006, 'login': 'stanfordnlp', 'grava...\n",
       "Name: 0, dtype: object"
      ]
     },
     "execution_count": 28,
     "metadata": {},
     "output_type": "execute_result"
    }
   ],
   "source": [
    "events_df.iloc[0]"
   ]
  },
  {
   "cell_type": "code",
   "execution_count": 39,
   "metadata": {},
   "outputs": [
    {
     "data": {
      "text/plain": [
       "\"{'id': 3046006, 'login': 'stanfordnlp', 'gravatar_id': '', 'url': 'https://api.github.com/orgs/stanfordnlp', 'avatar_url': 'https://avatars.githubusercontent.com/u/3046006?'}\""
      ]
     },
     "execution_count": 39,
     "metadata": {},
     "output_type": "execute_result"
    }
   ],
   "source": [
    "events_df[events_df.type==\"PullRequestReviewEvent\"].iloc[0].org"
   ]
  },
  {
   "cell_type": "code",
   "execution_count": 40,
   "metadata": {},
   "outputs": [
    {
     "data": {
      "text/plain": [
       "(334, 36)"
      ]
     },
     "execution_count": 40,
     "metadata": {},
     "output_type": "execute_result"
    }
   ],
   "source": [
    "pulls_df.shape"
   ]
  }
 ],
 "metadata": {
  "kernelspec": {
   "display_name": "Python 3",
   "language": "python",
   "name": "python3"
  },
  "language_info": {
   "codemirror_mode": {
    "name": "ipython",
    "version": 3
   },
   "file_extension": ".py",
   "mimetype": "text/x-python",
   "name": "python",
   "nbconvert_exporter": "python",
   "pygments_lexer": "ipython3",
   "version": "3.11.2"
  }
 },
 "nbformat": 4,
 "nbformat_minor": 2
}
